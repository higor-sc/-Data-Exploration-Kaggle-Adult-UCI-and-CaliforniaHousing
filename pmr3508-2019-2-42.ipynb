{
 "cells": [
  {
   "cell_type": "markdown",
   "metadata": {},
   "source": [
    "# PMR3508 Aprendizado de Máquina e Reconhecimento de Padrões\n",
    "                                 Base Adult - Técnicas de Classificação\n",
    "                                 Base Base CaliforniaHousing - Técnicas de Regressão\n",
    "\n",
    "* Autor: PMR3508-2019-42"
   ]
  },
  {
   "cell_type": "markdown",
   "metadata": {},
   "source": [
    "Imports necessários:"
   ]
  },
  {
   "cell_type": "code",
   "execution_count": 1,
   "metadata": {},
   "outputs": [],
   "source": [
    "# Manipulação dos dados\n",
    "import pandas as pd\n",
    "import numpy as np\n",
    "\n",
    "# Visualização \n",
    "import matplotlib.pyplot as plt\n",
    "import os\n",
    "import time\n",
    "%matplotlib inline\n",
    "\n",
    "# Processamento\n",
    "import sklearn\n",
    "from sklearn import preprocessing as prep\n",
    "\n",
    "# Classificadores\n",
    "from sklearn.neighbors import KNeighborsClassifier\n",
    "from sklearn.linear_model import LogisticRegression\n",
    "from sklearn.ensemble import RandomForestClassifier\n",
    "from sklearn.svm import SVC\n",
    "from sklearn.ensemble import AdaBoostClassifier\n",
    "from sklearn.neural_network import MLPClassifier\n",
    "\n",
    "# Avaliação\n",
    "from sklearn.model_selection import cross_val_score\n",
    "from sklearn.metrics import classification_report, confusion_matrix, accuracy_score"
   ]
  },
  {
   "cell_type": "markdown",
   "metadata": {},
   "source": [
    "## 1. Base Adult"
   ]
  },
  {
   "cell_type": "code",
   "execution_count": 2,
   "metadata": {},
   "outputs": [
    {
     "data": {
      "text/plain": [
       "['adult.data', 'adult.test']"
      ]
     },
     "execution_count": 2,
     "metadata": {},
     "output_type": "execute_result"
    }
   ],
   "source": [
    "os.listdir(\"../input/uci-adult\")"
   ]
  },
  {
   "cell_type": "markdown",
   "metadata": {},
   "source": [
    "### 1.1 Entendendo os dados"
   ]
  },
  {
   "cell_type": "code",
   "execution_count": 3,
   "metadata": {},
   "outputs": [
    {
     "data": {
      "text/plain": [
       "(32561, 15)"
      ]
     },
     "execution_count": 3,
     "metadata": {},
     "output_type": "execute_result"
    }
   ],
   "source": [
    "adult = pd.read_csv(\"../input/uci-adult/adult.data\",\n",
    "        names = [\n",
    "            \"Age\", \"Workclass\", \"fnlwgt\", \"Education\", \"Education-Num\", \"Martial Status\",\n",
    "            \"Occupation\", \"Relationship\", \"Race\", \"Sex\", \"Capital Gain\", \"Capital Loss\",\n",
    "            \"Hours per week\", \"Country\", \"Target\"],\n",
    "        sep= r'\\s*,\\s*',\n",
    "        engine= 'python',\n",
    "        na_values= \"?\")\n",
    "\n",
    "adult.shape"
   ]
  },
  {
   "cell_type": "code",
   "execution_count": 4,
   "metadata": {},
   "outputs": [
    {
     "data": {
      "text/html": [
       "<div>\n",
       "<style scoped>\n",
       "    .dataframe tbody tr th:only-of-type {\n",
       "        vertical-align: middle;\n",
       "    }\n",
       "\n",
       "    .dataframe tbody tr th {\n",
       "        vertical-align: top;\n",
       "    }\n",
       "\n",
       "    .dataframe thead th {\n",
       "        text-align: right;\n",
       "    }\n",
       "</style>\n",
       "<table border=\"1\" class=\"dataframe\">\n",
       "  <thead>\n",
       "    <tr style=\"text-align: right;\">\n",
       "      <th></th>\n",
       "      <th>Age</th>\n",
       "      <th>Workclass</th>\n",
       "      <th>fnlwgt</th>\n",
       "      <th>Education</th>\n",
       "      <th>Education-Num</th>\n",
       "      <th>Martial Status</th>\n",
       "      <th>Occupation</th>\n",
       "      <th>Relationship</th>\n",
       "      <th>Race</th>\n",
       "      <th>Sex</th>\n",
       "      <th>Capital Gain</th>\n",
       "      <th>Capital Loss</th>\n",
       "      <th>Hours per week</th>\n",
       "      <th>Country</th>\n",
       "      <th>Target</th>\n",
       "    </tr>\n",
       "  </thead>\n",
       "  <tbody>\n",
       "    <tr>\n",
       "      <th>0</th>\n",
       "      <td>39</td>\n",
       "      <td>State-gov</td>\n",
       "      <td>77516</td>\n",
       "      <td>Bachelors</td>\n",
       "      <td>13</td>\n",
       "      <td>Never-married</td>\n",
       "      <td>Adm-clerical</td>\n",
       "      <td>Not-in-family</td>\n",
       "      <td>White</td>\n",
       "      <td>Male</td>\n",
       "      <td>2174</td>\n",
       "      <td>0</td>\n",
       "      <td>40</td>\n",
       "      <td>United-States</td>\n",
       "      <td>&lt;=50K</td>\n",
       "    </tr>\n",
       "    <tr>\n",
       "      <th>1</th>\n",
       "      <td>50</td>\n",
       "      <td>Self-emp-not-inc</td>\n",
       "      <td>83311</td>\n",
       "      <td>Bachelors</td>\n",
       "      <td>13</td>\n",
       "      <td>Married-civ-spouse</td>\n",
       "      <td>Exec-managerial</td>\n",
       "      <td>Husband</td>\n",
       "      <td>White</td>\n",
       "      <td>Male</td>\n",
       "      <td>0</td>\n",
       "      <td>0</td>\n",
       "      <td>13</td>\n",
       "      <td>United-States</td>\n",
       "      <td>&lt;=50K</td>\n",
       "    </tr>\n",
       "    <tr>\n",
       "      <th>2</th>\n",
       "      <td>38</td>\n",
       "      <td>Private</td>\n",
       "      <td>215646</td>\n",
       "      <td>HS-grad</td>\n",
       "      <td>9</td>\n",
       "      <td>Divorced</td>\n",
       "      <td>Handlers-cleaners</td>\n",
       "      <td>Not-in-family</td>\n",
       "      <td>White</td>\n",
       "      <td>Male</td>\n",
       "      <td>0</td>\n",
       "      <td>0</td>\n",
       "      <td>40</td>\n",
       "      <td>United-States</td>\n",
       "      <td>&lt;=50K</td>\n",
       "    </tr>\n",
       "    <tr>\n",
       "      <th>3</th>\n",
       "      <td>53</td>\n",
       "      <td>Private</td>\n",
       "      <td>234721</td>\n",
       "      <td>11th</td>\n",
       "      <td>7</td>\n",
       "      <td>Married-civ-spouse</td>\n",
       "      <td>Handlers-cleaners</td>\n",
       "      <td>Husband</td>\n",
       "      <td>Black</td>\n",
       "      <td>Male</td>\n",
       "      <td>0</td>\n",
       "      <td>0</td>\n",
       "      <td>40</td>\n",
       "      <td>United-States</td>\n",
       "      <td>&lt;=50K</td>\n",
       "    </tr>\n",
       "    <tr>\n",
       "      <th>4</th>\n",
       "      <td>28</td>\n",
       "      <td>Private</td>\n",
       "      <td>338409</td>\n",
       "      <td>Bachelors</td>\n",
       "      <td>13</td>\n",
       "      <td>Married-civ-spouse</td>\n",
       "      <td>Prof-specialty</td>\n",
       "      <td>Wife</td>\n",
       "      <td>Black</td>\n",
       "      <td>Female</td>\n",
       "      <td>0</td>\n",
       "      <td>0</td>\n",
       "      <td>40</td>\n",
       "      <td>Cuba</td>\n",
       "      <td>&lt;=50K</td>\n",
       "    </tr>\n",
       "  </tbody>\n",
       "</table>\n",
       "</div>"
      ],
      "text/plain": [
       "   Age         Workclass  fnlwgt  Education  Education-Num  \\\n",
       "0   39         State-gov   77516  Bachelors             13   \n",
       "1   50  Self-emp-not-inc   83311  Bachelors             13   \n",
       "2   38           Private  215646    HS-grad              9   \n",
       "3   53           Private  234721       11th              7   \n",
       "4   28           Private  338409  Bachelors             13   \n",
       "\n",
       "       Martial Status         Occupation   Relationship   Race     Sex  \\\n",
       "0       Never-married       Adm-clerical  Not-in-family  White    Male   \n",
       "1  Married-civ-spouse    Exec-managerial        Husband  White    Male   \n",
       "2            Divorced  Handlers-cleaners  Not-in-family  White    Male   \n",
       "3  Married-civ-spouse  Handlers-cleaners        Husband  Black    Male   \n",
       "4  Married-civ-spouse     Prof-specialty           Wife  Black  Female   \n",
       "\n",
       "   Capital Gain  Capital Loss  Hours per week        Country Target  \n",
       "0          2174             0              40  United-States  <=50K  \n",
       "1             0             0              13  United-States  <=50K  \n",
       "2             0             0              40  United-States  <=50K  \n",
       "3             0             0              40  United-States  <=50K  \n",
       "4             0             0              40           Cuba  <=50K  "
      ]
     },
     "execution_count": 4,
     "metadata": {},
     "output_type": "execute_result"
    }
   ],
   "source": [
    "adult.head()"
   ]
  },
  {
   "cell_type": "markdown",
   "metadata": {},
   "source": [
    "#### 1.11 Análise das features mais relevantes"
   ]
  },
  {
   "cell_type": "code",
   "execution_count": 5,
   "metadata": {
    "scrolled": false
   },
   "outputs": [
    {
     "data": {
      "text/html": [
       "<div>\n",
       "<style scoped>\n",
       "    .dataframe tbody tr th:only-of-type {\n",
       "        vertical-align: middle;\n",
       "    }\n",
       "\n",
       "    .dataframe tbody tr th {\n",
       "        vertical-align: top;\n",
       "    }\n",
       "\n",
       "    .dataframe thead th {\n",
       "        text-align: right;\n",
       "    }\n",
       "</style>\n",
       "<table border=\"1\" class=\"dataframe\">\n",
       "  <thead>\n",
       "    <tr style=\"text-align: right;\">\n",
       "      <th></th>\n",
       "      <th>Age</th>\n",
       "      <th>fnlwgt</th>\n",
       "      <th>Education-Num</th>\n",
       "      <th>Capital Gain</th>\n",
       "      <th>Capital Loss</th>\n",
       "      <th>Hours per week</th>\n",
       "    </tr>\n",
       "  </thead>\n",
       "  <tbody>\n",
       "    <tr>\n",
       "      <th>count</th>\n",
       "      <td>32561.000000</td>\n",
       "      <td>3.256100e+04</td>\n",
       "      <td>32561.000000</td>\n",
       "      <td>32561.000000</td>\n",
       "      <td>32561.000000</td>\n",
       "      <td>32561.000000</td>\n",
       "    </tr>\n",
       "    <tr>\n",
       "      <th>mean</th>\n",
       "      <td>38.581647</td>\n",
       "      <td>1.897784e+05</td>\n",
       "      <td>10.080679</td>\n",
       "      <td>1077.648844</td>\n",
       "      <td>87.303830</td>\n",
       "      <td>40.437456</td>\n",
       "    </tr>\n",
       "    <tr>\n",
       "      <th>std</th>\n",
       "      <td>13.640433</td>\n",
       "      <td>1.055500e+05</td>\n",
       "      <td>2.572720</td>\n",
       "      <td>7385.292085</td>\n",
       "      <td>402.960219</td>\n",
       "      <td>12.347429</td>\n",
       "    </tr>\n",
       "    <tr>\n",
       "      <th>min</th>\n",
       "      <td>17.000000</td>\n",
       "      <td>1.228500e+04</td>\n",
       "      <td>1.000000</td>\n",
       "      <td>0.000000</td>\n",
       "      <td>0.000000</td>\n",
       "      <td>1.000000</td>\n",
       "    </tr>\n",
       "    <tr>\n",
       "      <th>25%</th>\n",
       "      <td>28.000000</td>\n",
       "      <td>1.178270e+05</td>\n",
       "      <td>9.000000</td>\n",
       "      <td>0.000000</td>\n",
       "      <td>0.000000</td>\n",
       "      <td>40.000000</td>\n",
       "    </tr>\n",
       "    <tr>\n",
       "      <th>50%</th>\n",
       "      <td>37.000000</td>\n",
       "      <td>1.783560e+05</td>\n",
       "      <td>10.000000</td>\n",
       "      <td>0.000000</td>\n",
       "      <td>0.000000</td>\n",
       "      <td>40.000000</td>\n",
       "    </tr>\n",
       "    <tr>\n",
       "      <th>75%</th>\n",
       "      <td>48.000000</td>\n",
       "      <td>2.370510e+05</td>\n",
       "      <td>12.000000</td>\n",
       "      <td>0.000000</td>\n",
       "      <td>0.000000</td>\n",
       "      <td>45.000000</td>\n",
       "    </tr>\n",
       "    <tr>\n",
       "      <th>max</th>\n",
       "      <td>90.000000</td>\n",
       "      <td>1.484705e+06</td>\n",
       "      <td>16.000000</td>\n",
       "      <td>99999.000000</td>\n",
       "      <td>4356.000000</td>\n",
       "      <td>99.000000</td>\n",
       "    </tr>\n",
       "  </tbody>\n",
       "</table>\n",
       "</div>"
      ],
      "text/plain": [
       "                Age        fnlwgt  Education-Num  Capital Gain  Capital Loss  \\\n",
       "count  32561.000000  3.256100e+04   32561.000000  32561.000000  32561.000000   \n",
       "mean      38.581647  1.897784e+05      10.080679   1077.648844     87.303830   \n",
       "std       13.640433  1.055500e+05       2.572720   7385.292085    402.960219   \n",
       "min       17.000000  1.228500e+04       1.000000      0.000000      0.000000   \n",
       "25%       28.000000  1.178270e+05       9.000000      0.000000      0.000000   \n",
       "50%       37.000000  1.783560e+05      10.000000      0.000000      0.000000   \n",
       "75%       48.000000  2.370510e+05      12.000000      0.000000      0.000000   \n",
       "max       90.000000  1.484705e+06      16.000000  99999.000000   4356.000000   \n",
       "\n",
       "       Hours per week  \n",
       "count    32561.000000  \n",
       "mean        40.437456  \n",
       "std         12.347429  \n",
       "min          1.000000  \n",
       "25%         40.000000  \n",
       "50%         40.000000  \n",
       "75%         45.000000  \n",
       "max         99.000000  "
      ]
     },
     "execution_count": 5,
     "metadata": {},
     "output_type": "execute_result"
    }
   ],
   "source": [
    "adult.describe()"
   ]
  },
  {
   "cell_type": "code",
   "execution_count": 6,
   "metadata": {
    "scrolled": true
   },
   "outputs": [
    {
     "data": {
      "text/plain": [
       "<matplotlib.axes._subplots.AxesSubplot at 0x7f944cf90b00>"
      ]
     },
     "execution_count": 6,
     "metadata": {},
     "output_type": "execute_result"
    },
    {
     "data": {
      "image/png": "[encoded data removed]",
      "text/plain": [
       "<Figure size 432x288 with 1 Axes>"
      ]
     },
     "metadata": {
      "needs_background": "light"
     },
     "output_type": "display_data"
    }
   ],
   "source": [
    "adult[\"Workclass\"].value_counts().plot(kind = \"bar\")"
   ]
  },
  {
   "cell_type": "code",
   "execution_count": 7,
   "metadata": {
    "scrolled": true
   },
   "outputs": [
    {
     "data": {
      "text/plain": [
       "Married-civ-spouse       14976\n",
       "Never-married            10683\n",
       "Divorced                  4443\n",
       "Separated                 1025\n",
       "Widowed                    993\n",
       "Married-spouse-absent      418\n",
       "Married-AF-spouse           23\n",
       "Name: Martial Status, dtype: int64"
      ]
     },
     "execution_count": 7,
     "metadata": {},
     "output_type": "execute_result"
    }
   ],
   "source": [
    "adult[\"Martial Status\"].value_counts()"
   ]
  },
  {
   "cell_type": "code",
   "execution_count": 8,
   "metadata": {},
   "outputs": [
    {
     "data": {
      "text/plain": [
       "<matplotlib.axes._subplots.AxesSubplot at 0x7f944cfa5160>"
      ]
     },
     "execution_count": 8,
     "metadata": {},
     "output_type": "execute_result"
    },
    {
     "data": {
      "image/png": "[encoded data removed]",
      "text/plain": [
       "<Figure size 432x288 with 1 Axes>"
      ]
     },
     "metadata": {
      "needs_background": "light"
     },
     "output_type": "display_data"
    }
   ],
   "source": [
    "adult[\"Occupation\"].value_counts().plot(kind = 'bar')"
   ]
  },
  {
   "cell_type": "code",
   "execution_count": 9,
   "metadata": {
    "scrolled": true
   },
   "outputs": [
    {
     "data": {
      "text/plain": [
       "<matplotlib.axes._subplots.AxesSubplot at 0x7f944cea9320>"
      ]
     },
     "execution_count": 9,
     "metadata": {},
     "output_type": "execute_result"
    },
    {
     "data": {
      "image/png": "[encoded data removed]",
      "text/plain": [
       "<Figure size 432x288 with 1 Axes>"
      ]
     },
     "metadata": {
      "needs_background": "light"
     },
     "output_type": "display_data"
    }
   ],
   "source": [
    "adult[\"Relationship\"].value_counts().plot(kind = 'bar')"
   ]
  },
  {
   "cell_type": "code",
   "execution_count": 10,
   "metadata": {
    "scrolled": true
   },
   "outputs": [
    {
     "data": {
      "text/plain": [
       "<matplotlib.axes._subplots.AxesSubplot at 0x7f9447d8fa20>"
      ]
     },
     "execution_count": 10,
     "metadata": {},
     "output_type": "execute_result"
    },
    {
     "data": {
      "image/png": "[encoded data removed]",
      "text/plain": [
       "<Figure size 432x288 with 1 Axes>"
      ]
     },
     "metadata": {},
     "output_type": "display_data"
    }
   ],
   "source": [
    "adult[\"Race\"].value_counts().plot(kind = 'pie')"
   ]
  },
  {
   "cell_type": "code",
   "execution_count": 11,
   "metadata": {
    "scrolled": false
   },
   "outputs": [
    {
     "data": {
      "text/plain": [
       "<matplotlib.axes._subplots.AxesSubplot at 0x7f944cac64e0>"
      ]
     },
     "execution_count": 11,
     "metadata": {},
     "output_type": "execute_result"
    },
    {
     "data": {
      "image/png": "[encoded data removed]",
      "text/plain": [
       "<Figure size 432x288 with 1 Axes>"
      ]
     },
     "metadata": {},
     "output_type": "display_data"
    }
   ],
   "source": [
    "adult[\"Sex\"].value_counts().plot(kind = 'pie')"
   ]
  },
  {
   "cell_type": "code",
   "execution_count": 12,
   "metadata": {
    "scrolled": true
   },
   "outputs": [
    {
     "data": {
      "text/plain": [
       "United-States                 29170\n",
       "Mexico                          643\n",
       "Philippines                     198\n",
       "Germany                         137\n",
       "Canada                          121\n",
       "Puerto-Rico                     114\n",
       "El-Salvador                     106\n",
       "India                           100\n",
       "Cuba                             95\n",
       "England                          90\n",
       "Jamaica                          81\n",
       "South                            80\n",
       "China                            75\n",
       "Italy                            73\n",
       "Dominican-Republic               70\n",
       "Vietnam                          67\n",
       "Guatemala                        64\n",
       "Japan                            62\n",
       "Poland                           60\n",
       "Columbia                         59\n",
       "Taiwan                           51\n",
       "Haiti                            44\n",
       "Iran                             43\n",
       "Portugal                         37\n",
       "Nicaragua                        34\n",
       "Peru                             31\n",
       "France                           29\n",
       "Greece                           29\n",
       "Ecuador                          28\n",
       "Ireland                          24\n",
       "Hong                             20\n",
       "Cambodia                         19\n",
       "Trinadad&Tobago                  19\n",
       "Thailand                         18\n",
       "Laos                             18\n",
       "Yugoslavia                       16\n",
       "Outlying-US(Guam-USVI-etc)       14\n",
       "Honduras                         13\n",
       "Hungary                          13\n",
       "Scotland                         12\n",
       "Holand-Netherlands                1\n",
       "Name: Country, dtype: int64"
      ]
     },
     "execution_count": 12,
     "metadata": {},
     "output_type": "execute_result"
    }
   ],
   "source": [
    "adult[\"Country\"].value_counts()"
   ]
  },
  {
   "cell_type": "markdown",
   "metadata": {},
   "source": [
    "Conclusões\n",
    "\n",
    "* Na feature \"Country\" predomina USA, logo, é descartável\n",
    "\n",
    "* \"Education\" descartável, pois há \"Education-Num\"\n",
    "\n",
    "* \"fnlwgt\" será descartado, pois não é relevante para a predição"
   ]
  },
  {
   "cell_type": "markdown",
   "metadata": {},
   "source": [
    "#### 1.12 Análise dos dados faltantes"
   ]
  },
  {
   "cell_type": "code",
   "execution_count": 13,
   "metadata": {},
   "outputs": [
    {
     "data": {
      "text/plain": [
       "Age                  0\n",
       "Workclass         1836\n",
       "fnlwgt               0\n",
       "Education            0\n",
       "Education-Num        0\n",
       "Martial Status       0\n",
       "Occupation        1843\n",
       "Relationship         0\n",
       "Race                 0\n",
       "Sex                  0\n",
       "Capital Gain         0\n",
       "Capital Loss         0\n",
       "Hours per week       0\n",
       "Country            583\n",
       "Target               0\n",
       "dtype: int64"
      ]
     },
     "execution_count": 13,
     "metadata": {},
     "output_type": "execute_result"
    }
   ],
   "source": [
    "adult.isnull().sum()"
   ]
  },
  {
   "cell_type": "markdown",
   "metadata": {},
   "source": [
    "As features 'Workclass', 'Occupation' e 'Country' concentram os dados faltantes\n",
    "\n",
    "* Estratégia: inserir a moda da feature no lugar dos dados faltantes"
   ]
  },
  {
   "cell_type": "code",
   "execution_count": 14,
   "metadata": {
    "scrolled": false
   },
   "outputs": [
    {
     "data": {
      "text/plain": [
       "Age               0\n",
       "Workclass         0\n",
       "fnlwgt            0\n",
       "Education         0\n",
       "Education-Num     0\n",
       "Martial Status    0\n",
       "Occupation        0\n",
       "Relationship      0\n",
       "Race              0\n",
       "Sex               0\n",
       "Capital Gain      0\n",
       "Capital Loss      0\n",
       "Hours per week    0\n",
       "Country           0\n",
       "Target            0\n",
       "dtype: int64"
      ]
     },
     "execution_count": 14,
     "metadata": {},
     "output_type": "execute_result"
    }
   ],
   "source": [
    "moda = adult['Workclass'].describe().top\n",
    "adult['Workclass'] = adult['Workclass'].fillna(moda)\n",
    "\n",
    "moda = adult['Occupation'].describe().top\n",
    "adult['Occupation'] = adult['Occupation'].fillna(moda)\n",
    "\n",
    "moda = adult['Country'].describe().top\n",
    "adult['Country'] = adult['Country'].fillna(moda)\n",
    "\n",
    "adult.isnull().sum()"
   ]
  },
  {
   "cell_type": "markdown",
   "metadata": {},
   "source": [
    "#### 1.13 Dados de Teste"
   ]
  },
  {
   "cell_type": "code",
   "execution_count": 15,
   "metadata": {
    "scrolled": true
   },
   "outputs": [
    {
     "data": {
      "text/plain": [
       "(16281, 15)"
      ]
     },
     "execution_count": 15,
     "metadata": {},
     "output_type": "execute_result"
    }
   ],
   "source": [
    "testAdult = pd.read_csv(\"../input/uci-adult/adult.test\",\n",
    "            names = [\n",
    "            \"Age\", \"Workclass\", \"fnlwgt\", \"Education\", \"Education-Num\", \"Martial Status\",\n",
    "            \"Occupation\", \"Relationship\", \"Race\", \"Sex\", \"Capital Gain\", \"Capital Loss\",\n",
    "            \"Hours per week\", \"Country\", \"Target\"],\n",
    "        sep= r'\\s*,\\s*',\n",
    "        engine= 'python',\n",
    "        na_values= \"?\").drop(0, axis = 0).reset_index(drop = True)\n",
    "\n",
    "testAdult.shape"
   ]
  },
  {
   "cell_type": "code",
   "execution_count": 16,
   "metadata": {},
   "outputs": [
    {
     "data": {
      "text/html": [
       "<div>\n",
       "<style scoped>\n",
       "    .dataframe tbody tr th:only-of-type {\n",
       "        vertical-align: middle;\n",
       "    }\n",
       "\n",
       "    .dataframe tbody tr th {\n",
       "        vertical-align: top;\n",
       "    }\n",
       "\n",
       "    .dataframe thead th {\n",
       "        text-align: right;\n",
       "    }\n",
       "</style>\n",
       "<table border=\"1\" class=\"dataframe\">\n",
       "  <thead>\n",
       "    <tr style=\"text-align: right;\">\n",
       "      <th></th>\n",
       "      <th>Age</th>\n",
       "      <th>Workclass</th>\n",
       "      <th>fnlwgt</th>\n",
       "      <th>Education</th>\n",
       "      <th>Education-Num</th>\n",
       "      <th>Martial Status</th>\n",
       "      <th>Occupation</th>\n",
       "      <th>Relationship</th>\n",
       "      <th>Race</th>\n",
       "      <th>Sex</th>\n",
       "      <th>Capital Gain</th>\n",
       "      <th>Capital Loss</th>\n",
       "      <th>Hours per week</th>\n",
       "      <th>Country</th>\n",
       "      <th>Target</th>\n",
       "    </tr>\n",
       "  </thead>\n",
       "  <tbody>\n",
       "    <tr>\n",
       "      <th>0</th>\n",
       "      <td>25</td>\n",
       "      <td>Private</td>\n",
       "      <td>226802.0</td>\n",
       "      <td>11th</td>\n",
       "      <td>7.0</td>\n",
       "      <td>Never-married</td>\n",
       "      <td>Machine-op-inspct</td>\n",
       "      <td>Own-child</td>\n",
       "      <td>Black</td>\n",
       "      <td>Male</td>\n",
       "      <td>0.0</td>\n",
       "      <td>0.0</td>\n",
       "      <td>40.0</td>\n",
       "      <td>United-States</td>\n",
       "      <td>&lt;=50K.</td>\n",
       "    </tr>\n",
       "    <tr>\n",
       "      <th>1</th>\n",
       "      <td>38</td>\n",
       "      <td>Private</td>\n",
       "      <td>89814.0</td>\n",
       "      <td>HS-grad</td>\n",
       "      <td>9.0</td>\n",
       "      <td>Married-civ-spouse</td>\n",
       "      <td>Farming-fishing</td>\n",
       "      <td>Husband</td>\n",
       "      <td>White</td>\n",
       "      <td>Male</td>\n",
       "      <td>0.0</td>\n",
       "      <td>0.0</td>\n",
       "      <td>50.0</td>\n",
       "      <td>United-States</td>\n",
       "      <td>&lt;=50K.</td>\n",
       "    </tr>\n",
       "    <tr>\n",
       "      <th>2</th>\n",
       "      <td>28</td>\n",
       "      <td>Local-gov</td>\n",
       "      <td>336951.0</td>\n",
       "      <td>Assoc-acdm</td>\n",
       "      <td>12.0</td>\n",
       "      <td>Married-civ-spouse</td>\n",
       "      <td>Protective-serv</td>\n",
       "      <td>Husband</td>\n",
       "      <td>White</td>\n",
       "      <td>Male</td>\n",
       "      <td>0.0</td>\n",
       "      <td>0.0</td>\n",
       "      <td>40.0</td>\n",
       "      <td>United-States</td>\n",
       "      <td>&gt;50K.</td>\n",
       "    </tr>\n",
       "    <tr>\n",
       "      <th>3</th>\n",
       "      <td>44</td>\n",
       "      <td>Private</td>\n",
       "      <td>160323.0</td>\n",
       "      <td>Some-college</td>\n",
       "      <td>10.0</td>\n",
       "      <td>Married-civ-spouse</td>\n",
       "      <td>Machine-op-inspct</td>\n",
       "      <td>Husband</td>\n",
       "      <td>Black</td>\n",
       "      <td>Male</td>\n",
       "      <td>7688.0</td>\n",
       "      <td>0.0</td>\n",
       "      <td>40.0</td>\n",
       "      <td>United-States</td>\n",
       "      <td>&gt;50K.</td>\n",
       "    </tr>\n",
       "    <tr>\n",
       "      <th>4</th>\n",
       "      <td>18</td>\n",
       "      <td>NaN</td>\n",
       "      <td>103497.0</td>\n",
       "      <td>Some-college</td>\n",
       "      <td>10.0</td>\n",
       "      <td>Never-married</td>\n",
       "      <td>NaN</td>\n",
       "      <td>Own-child</td>\n",
       "      <td>White</td>\n",
       "      <td>Female</td>\n",
       "      <td>0.0</td>\n",
       "      <td>0.0</td>\n",
       "      <td>30.0</td>\n",
       "      <td>United-States</td>\n",
       "      <td>&lt;=50K.</td>\n",
       "    </tr>\n",
       "  </tbody>\n",
       "</table>\n",
       "</div>"
      ],
      "text/plain": [
       "  Age  Workclass    fnlwgt     Education  Education-Num      Martial Status  \\\n",
       "0  25    Private  226802.0          11th            7.0       Never-married   \n",
       "1  38    Private   89814.0       HS-grad            9.0  Married-civ-spouse   \n",
       "2  28  Local-gov  336951.0    Assoc-acdm           12.0  Married-civ-spouse   \n",
       "3  44    Private  160323.0  Some-college           10.0  Married-civ-spouse   \n",
       "4  18        NaN  103497.0  Some-college           10.0       Never-married   \n",
       "\n",
       "          Occupation Relationship   Race     Sex  Capital Gain  Capital Loss  \\\n",
       "0  Machine-op-inspct    Own-child  Black    Male           0.0           0.0   \n",
       "1    Farming-fishing      Husband  White    Male           0.0           0.0   \n",
       "2    Protective-serv      Husband  White    Male           0.0           0.0   \n",
       "3  Machine-op-inspct      Husband  Black    Male        7688.0           0.0   \n",
       "4                NaN    Own-child  White  Female           0.0           0.0   \n",
       "\n",
       "   Hours per week        Country  Target  \n",
       "0            40.0  United-States  <=50K.  \n",
       "1            50.0  United-States  <=50K.  \n",
       "2            40.0  United-States   >50K.  \n",
       "3            40.0  United-States   >50K.  \n",
       "4            30.0  United-States  <=50K.  "
      ]
     },
     "execution_count": 16,
     "metadata": {},
     "output_type": "execute_result"
    }
   ],
   "source": [
    "testAdult.head()"
   ]
  },
  {
   "cell_type": "code",
   "execution_count": 17,
   "metadata": {
    "scrolled": false
   },
   "outputs": [
    {
     "data": {
      "text/plain": [
       "Age                 0\n",
       "Workclass         963\n",
       "fnlwgt              0\n",
       "Education           0\n",
       "Education-Num       0\n",
       "Martial Status      0\n",
       "Occupation        966\n",
       "Relationship        0\n",
       "Race                0\n",
       "Sex                 0\n",
       "Capital Gain        0\n",
       "Capital Loss        0\n",
       "Hours per week      0\n",
       "Country           274\n",
       "Target              0\n",
       "dtype: int64"
      ]
     },
     "execution_count": 17,
     "metadata": {},
     "output_type": "execute_result"
    }
   ],
   "source": [
    "testAdult.isnull().sum()"
   ]
  },
  {
   "cell_type": "markdown",
   "metadata": {},
   "source": [
    "A estratégia de tratamento de dados faltantes será a mesma que foi aplicada aos dados de treino.\n",
    "Como a feature \"fnlwgt\" não é relevante, somente a feature \"Relationship\" será tratada. Em \"Target\" a exclusão das linhas é mais conveniente."
   ]
  },
  {
   "cell_type": "code",
   "execution_count": 18,
   "metadata": {
    "scrolled": false
   },
   "outputs": [
    {
     "data": {
      "text/plain": [
       "Age               0\n",
       "Workclass         0\n",
       "fnlwgt            0\n",
       "Education         0\n",
       "Education-Num     0\n",
       "Martial Status    0\n",
       "Occupation        0\n",
       "Relationship      0\n",
       "Race              0\n",
       "Sex               0\n",
       "Capital Gain      0\n",
       "Capital Loss      0\n",
       "Hours per week    0\n",
       "Country           0\n",
       "Target            0\n",
       "dtype: int64"
      ]
     },
     "execution_count": 18,
     "metadata": {},
     "output_type": "execute_result"
    }
   ],
   "source": [
    "moda = testAdult['Workclass'].describe().top\n",
    "testAdult['Workclass'] = testAdult['Workclass'].fillna(moda)\n",
    "\n",
    "moda = testAdult['Occupation'].describe().top\n",
    "testAdult['Occupation'] = testAdult['Occupation'].fillna(moda)\n",
    "\n",
    "moda = testAdult['Country'].describe().top\n",
    "testAdult['Country'] = testAdult['Country'].fillna(moda)\n",
    "\n",
    "testAdult.isnull().sum()"
   ]
  },
  {
   "cell_type": "code",
   "execution_count": 19,
   "metadata": {},
   "outputs": [
    {
     "data": {
      "text/html": [
       "<div>\n",
       "<style scoped>\n",
       "    .dataframe tbody tr th:only-of-type {\n",
       "        vertical-align: middle;\n",
       "    }\n",
       "\n",
       "    .dataframe tbody tr th {\n",
       "        vertical-align: top;\n",
       "    }\n",
       "\n",
       "    .dataframe thead th {\n",
       "        text-align: right;\n",
       "    }\n",
       "</style>\n",
       "<table border=\"1\" class=\"dataframe\">\n",
       "  <thead>\n",
       "    <tr style=\"text-align: right;\">\n",
       "      <th></th>\n",
       "      <th>Age</th>\n",
       "      <th>fnlwgt</th>\n",
       "      <th>Education-Num</th>\n",
       "      <th>Capital Gain</th>\n",
       "      <th>Capital Loss</th>\n",
       "      <th>Hours per week</th>\n",
       "    </tr>\n",
       "  </thead>\n",
       "  <tbody>\n",
       "    <tr>\n",
       "      <th>count</th>\n",
       "      <td>32561.000000</td>\n",
       "      <td>3.256100e+04</td>\n",
       "      <td>32561.000000</td>\n",
       "      <td>32561.000000</td>\n",
       "      <td>32561.000000</td>\n",
       "      <td>32561.000000</td>\n",
       "    </tr>\n",
       "    <tr>\n",
       "      <th>mean</th>\n",
       "      <td>38.581647</td>\n",
       "      <td>1.897784e+05</td>\n",
       "      <td>10.080679</td>\n",
       "      <td>1077.648844</td>\n",
       "      <td>87.303830</td>\n",
       "      <td>40.437456</td>\n",
       "    </tr>\n",
       "    <tr>\n",
       "      <th>std</th>\n",
       "      <td>13.640433</td>\n",
       "      <td>1.055500e+05</td>\n",
       "      <td>2.572720</td>\n",
       "      <td>7385.292085</td>\n",
       "      <td>402.960219</td>\n",
       "      <td>12.347429</td>\n",
       "    </tr>\n",
       "    <tr>\n",
       "      <th>min</th>\n",
       "      <td>17.000000</td>\n",
       "      <td>1.228500e+04</td>\n",
       "      <td>1.000000</td>\n",
       "      <td>0.000000</td>\n",
       "      <td>0.000000</td>\n",
       "      <td>1.000000</td>\n",
       "    </tr>\n",
       "    <tr>\n",
       "      <th>25%</th>\n",
       "      <td>28.000000</td>\n",
       "      <td>1.178270e+05</td>\n",
       "      <td>9.000000</td>\n",
       "      <td>0.000000</td>\n",
       "      <td>0.000000</td>\n",
       "      <td>40.000000</td>\n",
       "    </tr>\n",
       "    <tr>\n",
       "      <th>50%</th>\n",
       "      <td>37.000000</td>\n",
       "      <td>1.783560e+05</td>\n",
       "      <td>10.000000</td>\n",
       "      <td>0.000000</td>\n",
       "      <td>0.000000</td>\n",
       "      <td>40.000000</td>\n",
       "    </tr>\n",
       "    <tr>\n",
       "      <th>75%</th>\n",
       "      <td>48.000000</td>\n",
       "      <td>2.370510e+05</td>\n",
       "      <td>12.000000</td>\n",
       "      <td>0.000000</td>\n",
       "      <td>0.000000</td>\n",
       "      <td>45.000000</td>\n",
       "    </tr>\n",
       "    <tr>\n",
       "      <th>max</th>\n",
       "      <td>90.000000</td>\n",
       "      <td>1.484705e+06</td>\n",
       "      <td>16.000000</td>\n",
       "      <td>99999.000000</td>\n",
       "      <td>4356.000000</td>\n",
       "      <td>99.000000</td>\n",
       "    </tr>\n",
       "  </tbody>\n",
       "</table>\n",
       "</div>"
      ],
      "text/plain": [
       "                Age        fnlwgt  Education-Num  Capital Gain  Capital Loss  \\\n",
       "count  32561.000000  3.256100e+04   32561.000000  32561.000000  32561.000000   \n",
       "mean      38.581647  1.897784e+05      10.080679   1077.648844     87.303830   \n",
       "std       13.640433  1.055500e+05       2.572720   7385.292085    402.960219   \n",
       "min       17.000000  1.228500e+04       1.000000      0.000000      0.000000   \n",
       "25%       28.000000  1.178270e+05       9.000000      0.000000      0.000000   \n",
       "50%       37.000000  1.783560e+05      10.000000      0.000000      0.000000   \n",
       "75%       48.000000  2.370510e+05      12.000000      0.000000      0.000000   \n",
       "max       90.000000  1.484705e+06      16.000000  99999.000000   4356.000000   \n",
       "\n",
       "       Hours per week  \n",
       "count    32561.000000  \n",
       "mean        40.437456  \n",
       "std         12.347429  \n",
       "min          1.000000  \n",
       "25%         40.000000  \n",
       "50%         40.000000  \n",
       "75%         45.000000  \n",
       "max         99.000000  "
      ]
     },
     "execution_count": 19,
     "metadata": {},
     "output_type": "execute_result"
    }
   ],
   "source": [
    "adult.describe()"
   ]
  },
  {
   "cell_type": "code",
   "execution_count": 20,
   "metadata": {
    "scrolled": true
   },
   "outputs": [
    {
     "data": {
      "text/html": [
       "<div>\n",
       "<style scoped>\n",
       "    .dataframe tbody tr th:only-of-type {\n",
       "        vertical-align: middle;\n",
       "    }\n",
       "\n",
       "    .dataframe tbody tr th {\n",
       "        vertical-align: top;\n",
       "    }\n",
       "\n",
       "    .dataframe thead th {\n",
       "        text-align: right;\n",
       "    }\n",
       "</style>\n",
       "<table border=\"1\" class=\"dataframe\">\n",
       "  <thead>\n",
       "    <tr style=\"text-align: right;\">\n",
       "      <th></th>\n",
       "      <th>fnlwgt</th>\n",
       "      <th>Education-Num</th>\n",
       "      <th>Capital Gain</th>\n",
       "      <th>Capital Loss</th>\n",
       "      <th>Hours per week</th>\n",
       "    </tr>\n",
       "  </thead>\n",
       "  <tbody>\n",
       "    <tr>\n",
       "      <th>count</th>\n",
       "      <td>1.628100e+04</td>\n",
       "      <td>16281.000000</td>\n",
       "      <td>16281.000000</td>\n",
       "      <td>16281.000000</td>\n",
       "      <td>16281.000000</td>\n",
       "    </tr>\n",
       "    <tr>\n",
       "      <th>mean</th>\n",
       "      <td>1.894357e+05</td>\n",
       "      <td>10.072907</td>\n",
       "      <td>1081.905104</td>\n",
       "      <td>87.899269</td>\n",
       "      <td>40.392236</td>\n",
       "    </tr>\n",
       "    <tr>\n",
       "      <th>std</th>\n",
       "      <td>1.057149e+05</td>\n",
       "      <td>2.567545</td>\n",
       "      <td>7583.935968</td>\n",
       "      <td>403.105286</td>\n",
       "      <td>12.479332</td>\n",
       "    </tr>\n",
       "    <tr>\n",
       "      <th>min</th>\n",
       "      <td>1.349200e+04</td>\n",
       "      <td>1.000000</td>\n",
       "      <td>0.000000</td>\n",
       "      <td>0.000000</td>\n",
       "      <td>1.000000</td>\n",
       "    </tr>\n",
       "    <tr>\n",
       "      <th>25%</th>\n",
       "      <td>1.167360e+05</td>\n",
       "      <td>9.000000</td>\n",
       "      <td>0.000000</td>\n",
       "      <td>0.000000</td>\n",
       "      <td>40.000000</td>\n",
       "    </tr>\n",
       "    <tr>\n",
       "      <th>50%</th>\n",
       "      <td>1.778310e+05</td>\n",
       "      <td>10.000000</td>\n",
       "      <td>0.000000</td>\n",
       "      <td>0.000000</td>\n",
       "      <td>40.000000</td>\n",
       "    </tr>\n",
       "    <tr>\n",
       "      <th>75%</th>\n",
       "      <td>2.383840e+05</td>\n",
       "      <td>12.000000</td>\n",
       "      <td>0.000000</td>\n",
       "      <td>0.000000</td>\n",
       "      <td>45.000000</td>\n",
       "    </tr>\n",
       "    <tr>\n",
       "      <th>max</th>\n",
       "      <td>1.490400e+06</td>\n",
       "      <td>16.000000</td>\n",
       "      <td>99999.000000</td>\n",
       "      <td>3770.000000</td>\n",
       "      <td>99.000000</td>\n",
       "    </tr>\n",
       "  </tbody>\n",
       "</table>\n",
       "</div>"
      ],
      "text/plain": [
       "             fnlwgt  Education-Num  Capital Gain  Capital Loss  Hours per week\n",
       "count  1.628100e+04   16281.000000  16281.000000  16281.000000    16281.000000\n",
       "mean   1.894357e+05      10.072907   1081.905104     87.899269       40.392236\n",
       "std    1.057149e+05       2.567545   7583.935968    403.105286       12.479332\n",
       "min    1.349200e+04       1.000000      0.000000      0.000000        1.000000\n",
       "25%    1.167360e+05       9.000000      0.000000      0.000000       40.000000\n",
       "50%    1.778310e+05      10.000000      0.000000      0.000000       40.000000\n",
       "75%    2.383840e+05      12.000000      0.000000      0.000000       45.000000\n",
       "max    1.490400e+06      16.000000  99999.000000   3770.000000       99.000000"
      ]
     },
     "execution_count": 20,
     "metadata": {},
     "output_type": "execute_result"
    }
   ],
   "source": [
    "testAdult.describe()"
   ]
  },
  {
   "cell_type": "markdown",
   "metadata": {},
   "source": [
    "#### 1.14 Transformação dos dados não-numéricos em valores numéricos"
   ]
  },
  {
   "cell_type": "code",
   "execution_count": 21,
   "metadata": {},
   "outputs": [],
   "source": [
    "# Não Numéricos relevantes\n",
    "nNumber = [\"Workclass\", \"Occupation\", \"Race\", \"Target\"]\n",
    "\n",
    "adult[nNumber] = adult[nNumber].apply(prep.LabelEncoder().fit_transform)\n",
    "\n",
    "testAdult[nNumber] = testAdult[nNumber].apply(prep.LabelEncoder().fit_transform)"
   ]
  },
  {
   "cell_type": "code",
   "execution_count": 22,
   "metadata": {
    "scrolled": true
   },
   "outputs": [
    {
     "data": {
      "text/html": [
       "<div>\n",
       "<style scoped>\n",
       "    .dataframe tbody tr th:only-of-type {\n",
       "        vertical-align: middle;\n",
       "    }\n",
       "\n",
       "    .dataframe tbody tr th {\n",
       "        vertical-align: top;\n",
       "    }\n",
       "\n",
       "    .dataframe thead th {\n",
       "        text-align: right;\n",
       "    }\n",
       "</style>\n",
       "<table border=\"1\" class=\"dataframe\">\n",
       "  <thead>\n",
       "    <tr style=\"text-align: right;\">\n",
       "      <th></th>\n",
       "      <th>Age</th>\n",
       "      <th>Workclass</th>\n",
       "      <th>fnlwgt</th>\n",
       "      <th>Education</th>\n",
       "      <th>Education-Num</th>\n",
       "      <th>Martial Status</th>\n",
       "      <th>Occupation</th>\n",
       "      <th>Relationship</th>\n",
       "      <th>Race</th>\n",
       "      <th>Sex</th>\n",
       "      <th>Capital Gain</th>\n",
       "      <th>Capital Loss</th>\n",
       "      <th>Hours per week</th>\n",
       "      <th>Country</th>\n",
       "      <th>Target</th>\n",
       "    </tr>\n",
       "  </thead>\n",
       "  <tbody>\n",
       "    <tr>\n",
       "      <th>0</th>\n",
       "      <td>39</td>\n",
       "      <td>6</td>\n",
       "      <td>77516</td>\n",
       "      <td>Bachelors</td>\n",
       "      <td>13</td>\n",
       "      <td>Never-married</td>\n",
       "      <td>0</td>\n",
       "      <td>Not-in-family</td>\n",
       "      <td>4</td>\n",
       "      <td>Male</td>\n",
       "      <td>2174</td>\n",
       "      <td>0</td>\n",
       "      <td>40</td>\n",
       "      <td>United-States</td>\n",
       "      <td>0</td>\n",
       "    </tr>\n",
       "    <tr>\n",
       "      <th>1</th>\n",
       "      <td>50</td>\n",
       "      <td>5</td>\n",
       "      <td>83311</td>\n",
       "      <td>Bachelors</td>\n",
       "      <td>13</td>\n",
       "      <td>Married-civ-spouse</td>\n",
       "      <td>3</td>\n",
       "      <td>Husband</td>\n",
       "      <td>4</td>\n",
       "      <td>Male</td>\n",
       "      <td>0</td>\n",
       "      <td>0</td>\n",
       "      <td>13</td>\n",
       "      <td>United-States</td>\n",
       "      <td>0</td>\n",
       "    </tr>\n",
       "    <tr>\n",
       "      <th>2</th>\n",
       "      <td>38</td>\n",
       "      <td>3</td>\n",
       "      <td>215646</td>\n",
       "      <td>HS-grad</td>\n",
       "      <td>9</td>\n",
       "      <td>Divorced</td>\n",
       "      <td>5</td>\n",
       "      <td>Not-in-family</td>\n",
       "      <td>4</td>\n",
       "      <td>Male</td>\n",
       "      <td>0</td>\n",
       "      <td>0</td>\n",
       "      <td>40</td>\n",
       "      <td>United-States</td>\n",
       "      <td>0</td>\n",
       "    </tr>\n",
       "    <tr>\n",
       "      <th>3</th>\n",
       "      <td>53</td>\n",
       "      <td>3</td>\n",
       "      <td>234721</td>\n",
       "      <td>11th</td>\n",
       "      <td>7</td>\n",
       "      <td>Married-civ-spouse</td>\n",
       "      <td>5</td>\n",
       "      <td>Husband</td>\n",
       "      <td>2</td>\n",
       "      <td>Male</td>\n",
       "      <td>0</td>\n",
       "      <td>0</td>\n",
       "      <td>40</td>\n",
       "      <td>United-States</td>\n",
       "      <td>0</td>\n",
       "    </tr>\n",
       "    <tr>\n",
       "      <th>4</th>\n",
       "      <td>28</td>\n",
       "      <td>3</td>\n",
       "      <td>338409</td>\n",
       "      <td>Bachelors</td>\n",
       "      <td>13</td>\n",
       "      <td>Married-civ-spouse</td>\n",
       "      <td>9</td>\n",
       "      <td>Wife</td>\n",
       "      <td>2</td>\n",
       "      <td>Female</td>\n",
       "      <td>0</td>\n",
       "      <td>0</td>\n",
       "      <td>40</td>\n",
       "      <td>Cuba</td>\n",
       "      <td>0</td>\n",
       "    </tr>\n",
       "  </tbody>\n",
       "</table>\n",
       "</div>"
      ],
      "text/plain": [
       "   Age  Workclass  fnlwgt  Education  Education-Num      Martial Status  \\\n",
       "0   39          6   77516  Bachelors             13       Never-married   \n",
       "1   50          5   83311  Bachelors             13  Married-civ-spouse   \n",
       "2   38          3  215646    HS-grad              9            Divorced   \n",
       "3   53          3  234721       11th              7  Married-civ-spouse   \n",
       "4   28          3  338409  Bachelors             13  Married-civ-spouse   \n",
       "\n",
       "   Occupation   Relationship  Race     Sex  Capital Gain  Capital Loss  \\\n",
       "0           0  Not-in-family     4    Male          2174             0   \n",
       "1           3        Husband     4    Male             0             0   \n",
       "2           5  Not-in-family     4    Male             0             0   \n",
       "3           5        Husband     2    Male             0             0   \n",
       "4           9           Wife     2  Female             0             0   \n",
       "\n",
       "   Hours per week        Country  Target  \n",
       "0              40  United-States       0  \n",
       "1              13  United-States       0  \n",
       "2              40  United-States       0  \n",
       "3              40  United-States       0  \n",
       "4              40           Cuba       0  "
      ]
     },
     "execution_count": 22,
     "metadata": {},
     "output_type": "execute_result"
    }
   ],
   "source": [
    "adult.head()"
   ]
  },
  {
   "cell_type": "markdown",
   "metadata": {},
   "source": [
    "### 1.2 Classificador k-NN"
   ]
  },
  {
   "cell_type": "markdown",
   "metadata": {},
   "source": [
    "* Primeiro Teste: k = 5 usando somente dados númericos"
   ]
  },
  {
   "cell_type": "code",
   "execution_count": 23,
   "metadata": {},
   "outputs": [],
   "source": [
    "atributos = [\"Age\", \"Education-Num\", \"Capital Gain\", \"Capital Loss\", \"Hours per week\"]\n",
    "\n",
    "x_train = adult[atributos]\n",
    "y_train = adult.Target\n",
    "\n",
    "x_test = testAdult[atributos]\n",
    "y_test = testAdult.Target"
   ]
  },
  {
   "cell_type": "code",
   "execution_count": 24,
   "metadata": {},
   "outputs": [
    {
     "data": {
      "text/plain": [
       "0.8204600901177506"
      ]
     },
     "execution_count": 24,
     "metadata": {},
     "output_type": "execute_result"
    }
   ],
   "source": [
    "knn = KNeighborsClassifier(n_neighbors = 5)\n",
    "\n",
    "scores = cross_val_score(knn, x_train, y_train, cv=10)\n",
    "scores.mean()"
   ]
  },
  {
   "cell_type": "code",
   "execution_count": 25,
   "metadata": {},
   "outputs": [
    {
     "data": {
      "text/plain": [
       "0.8241508506848474"
      ]
     },
     "execution_count": 25,
     "metadata": {},
     "output_type": "execute_result"
    }
   ],
   "source": [
    "knn.fit(x_train, y_train)\n",
    "\n",
    "y_predict = knn.predict(x_test)\n",
    "\n",
    "accuracy_score(y_test, y_predict)"
   ]
  },
  {
   "cell_type": "markdown",
   "metadata": {},
   "source": [
    "* Segundo Teste: k = 25 usando somente dados númericos"
   ]
  },
  {
   "cell_type": "code",
   "execution_count": 26,
   "metadata": {},
   "outputs": [
    {
     "data": {
      "text/plain": [
       "0.8349559802775953"
      ]
     },
     "execution_count": 26,
     "metadata": {},
     "output_type": "execute_result"
    }
   ],
   "source": [
    "knn = KNeighborsClassifier(n_neighbors = 25)\n",
    "\n",
    "scores = cross_val_score(knn, x_train, y_train, cv=10)\n",
    "scores.mean()"
   ]
  },
  {
   "cell_type": "code",
   "execution_count": 27,
   "metadata": {},
   "outputs": [
    {
     "data": {
      "text/plain": [
       "0.8389533812419384"
      ]
     },
     "execution_count": 27,
     "metadata": {},
     "output_type": "execute_result"
    }
   ],
   "source": [
    "knn.fit(x_train, y_train)\n",
    "\n",
    "y_predict = knn.predict(x_test)\n",
    "\n",
    "accuracy_score(y_test, y_predict)"
   ]
  },
  {
   "cell_type": "markdown",
   "metadata": {},
   "source": [
    "* Terceiro Teste: k = 25 usando dados númericos e não numéricos"
   ]
  },
  {
   "cell_type": "code",
   "execution_count": 28,
   "metadata": {},
   "outputs": [],
   "source": [
    "atributos = [\"Age\", \"Workclass\", \"Education-Num\", \"Occupation\", \"Race\", \"Capital Gain\", \"Capital Loss\", \"Hours per week\"]\n",
    "\n",
    "x_train = adult[atributos]\n",
    "y_train = adult.Target\n",
    "\n",
    "x_test = testAdult[atributos]\n",
    "y_test = testAdult.Target"
   ]
  },
  {
   "cell_type": "code",
   "execution_count": 29,
   "metadata": {},
   "outputs": [
    {
     "data": {
      "text/plain": [
       "0.8381501589092931"
      ]
     },
     "execution_count": 29,
     "metadata": {},
     "output_type": "execute_result"
    }
   ],
   "source": [
    "knn = KNeighborsClassifier(n_neighbors = 25)\n",
    "\n",
    "scores = cross_val_score(knn, x_train, y_train, cv=10)\n",
    "scores.mean()"
   ]
  },
  {
   "cell_type": "code",
   "execution_count": 30,
   "metadata": {},
   "outputs": [
    {
     "data": {
      "text/plain": [
       "0.8394447515508875"
      ]
     },
     "execution_count": 30,
     "metadata": {},
     "output_type": "execute_result"
    }
   ],
   "source": [
    "knn.fit(x_train, y_train)\n",
    "\n",
    "y_predict = knn.predict(x_test)\n",
    "\n",
    "accuracy_score(y_test, y_predict)"
   ]
  },
  {
   "cell_type": "markdown",
   "metadata": {},
   "source": [
    "Pelos resultados é perceptível que a mescla de atributos numéricos com não numéricos apresentou melhor resultado. Agora deve-se encontrar o melhor hiperparâmetro k"
   ]
  },
  {
   "cell_type": "markdown",
   "metadata": {},
   "source": [
    "#### 1.21 Treinamento e Validação Cruzada para encontrar o melhor hiperparâmetro k"
   ]
  },
  {
   "cell_type": "code",
   "execution_count": 31,
   "metadata": {},
   "outputs": [
    {
     "name": "stdout",
     "output_type": "stream",
     "text": [
      "28\n"
     ]
    }
   ],
   "source": [
    "    inf = 1\n",
    "    sup = 35\n",
    "\n",
    "    scores_media = []\n",
    "    aux = 0\n",
    "    k_max = 0\n",
    "\n",
    "    i = 0\n",
    "    for k in range(inf, sup):\n",
    "        knn = KNeighborsClassifier(n_neighbors = k)\n",
    "        scores = cross_val_score(knn, x_train, y_train, cv=10)\n",
    "        scores_media.append(scores.mean())\n",
    "\n",
    "        if scores_media[i] > aux:\n",
    "            k_max = k\n",
    "            aux = scores_media[i]\n",
    "\n",
    "        i = i + 1\n",
    "\n",
    "    print(k_max)"
   ]
  },
  {
   "cell_type": "code",
   "execution_count": 32,
   "metadata": {
    "scrolled": false
   },
   "outputs": [
    {
     "data": {
      "text/plain": [
       "Text(0.5, 1.0, 'Perfomance do algoritmo conforme o valor de k')"
      ]
     },
     "execution_count": 32,
     "metadata": {},
     "output_type": "execute_result"
    },
    {
     "data": {
      "image/png": "[encoded data removed]",
      "text/plain": [
       "<Figure size 720x360 with 1 Axes>"
      ]
     },
     "metadata": {
      "needs_background": "light"
     },
     "output_type": "display_data"
    }
   ],
   "source": [
    "x = np.arange(1, sup)\n",
    "\n",
    "plt.figure(figsize=(10, 5))\n",
    "plt.plot(x, scores_media, '--', color = 'red', linewidth = 2)\n",
    "plt.plot(k_max, scores_media[k_max], 'o')\n",
    "\n",
    "plt.xlabel('k')\n",
    "plt.ylabel('Acurácia')\n",
    "plt.title('Perfomance do algoritmo conforme o valor de k')"
   ]
  },
  {
   "cell_type": "code",
   "execution_count": 33,
   "metadata": {
    "scrolled": true
   },
   "outputs": [
    {
     "name": "stdout",
     "output_type": "stream",
     "text": [
      "Acurácia para k = 28 : 83.72%\n"
     ]
    }
   ],
   "source": [
    "print('Acurácia para k = {0} : {1:2.2f}%'.format(k_max, 100 * scores_media[k_max]))"
   ]
  },
  {
   "cell_type": "markdown",
   "metadata": {},
   "source": [
    "No gráfico acima pode-se observar a acurácia obtida através da validação cruzada conforme o valor de k."
   ]
  },
  {
   "cell_type": "markdown",
   "metadata": {},
   "source": [
    "#### 1.22 Teste com o melhor hiperparâmetro"
   ]
  },
  {
   "cell_type": "code",
   "execution_count": 34,
   "metadata": {},
   "outputs": [],
   "source": [
    "k = k_max"
   ]
  },
  {
   "cell_type": "code",
   "execution_count": 35,
   "metadata": {},
   "outputs": [],
   "source": [
    "# Início da contagem\n",
    "start = time.time()\n",
    "\n",
    "knn = KNeighborsClassifier(n_neighbors = k)\n",
    "\n",
    "knn.fit(x_train, y_train)\n",
    "\n",
    "# Término da contagem\n",
    "end = time.time()"
   ]
  },
  {
   "cell_type": "code",
   "execution_count": 36,
   "metadata": {},
   "outputs": [
    {
     "name": "stdout",
     "output_type": "stream",
     "text": [
      "[knn] Tempo necessário em segundos: 1.2992644309997559\n"
     ]
    }
   ],
   "source": [
    "time_knn = end - start\n",
    "print (\"[knn] Tempo necessário em segundos:\", time_knn)"
   ]
  },
  {
   "cell_type": "code",
   "execution_count": 37,
   "metadata": {},
   "outputs": [
    {
     "name": "stdout",
     "output_type": "stream",
     "text": [
      "[[11849   586]\n",
      " [ 1994  1852]]\n",
      "              precision    recall  f1-score   support\n",
      "\n",
      "           0       0.86      0.95      0.90     12435\n",
      "           1       0.76      0.48      0.59      3846\n",
      "\n",
      "    accuracy                           0.84     16281\n",
      "   macro avg       0.81      0.72      0.75     16281\n",
      "weighted avg       0.83      0.84      0.83     16281\n",
      "\n",
      "Accuracy:  0.8415330753639212\n"
     ]
    }
   ],
   "source": [
    "predict_knn = knn.predict(x_test)\n",
    "\n",
    "print(confusion_matrix(y_test, predict_knn))\n",
    "print(classification_report(y_test, predict_knn))\n",
    "\n",
    "acc_knn = accuracy_score(y_test, predict_knn)\n",
    "print('Accuracy: ', acc_knn)"
   ]
  },
  {
   "cell_type": "markdown",
   "metadata": {},
   "source": [
    "## 2. Outros Classificadores"
   ]
  },
  {
   "cell_type": "code",
   "execution_count": 38,
   "metadata": {},
   "outputs": [],
   "source": [
    "# Numéricos e Não Numéricos\n",
    "atributos = [\"Age\", \"Workclass\", \"Education-Num\", \"Occupation\", \"Race\", \"Capital Gain\", \"Capital Loss\", \"Hours per week\"]\n",
    "\n",
    "x_train = adult[atributos]\n",
    "y_train = adult['Target']\n",
    "\n",
    "x_test = testAdult[atributos]\n",
    "y_test = testAdult['Target']"
   ]
  },
  {
   "cell_type": "markdown",
   "metadata": {},
   "source": [
    "### 2.1 Regressão Logística"
   ]
  },
  {
   "cell_type": "markdown",
   "metadata": {},
   "source": [
    "O otimizador que melhor se saiu em termos de acurácia foi o 'newton-cg', apesar de ter apresentado problema na convergência do algoritmo"
   ]
  },
  {
   "cell_type": "code",
   "execution_count": 39,
   "metadata": {},
   "outputs": [
    {
     "name": "stderr",
     "output_type": "stream",
     "text": [
      "/opt/conda/lib/python3.6/site-packages/scipy/optimize/linesearch.py:426: LineSearchWarning: Rounding errors prevent the line search from converging\n",
      "  warn(msg, LineSearchWarning)\n",
      "/opt/conda/lib/python3.6/site-packages/scipy/optimize/linesearch.py:314: LineSearchWarning: The line search algorithm did not converge\n",
      "  warn('The line search algorithm did not converge', LineSearchWarning)\n",
      "/opt/conda/lib/python3.6/site-packages/sklearn/utils/optimize.py:195: UserWarning: Line Search failed\n",
      "  warnings.warn('Line Search failed')\n",
      "/opt/conda/lib/python3.6/site-packages/scipy/optimize/linesearch.py:426: LineSearchWarning: Rounding errors prevent the line search from converging\n",
      "  warn(msg, LineSearchWarning)\n",
      "/opt/conda/lib/python3.6/site-packages/scipy/optimize/linesearch.py:314: LineSearchWarning: The line search algorithm did not converge\n",
      "  warn('The line search algorithm did not converge', LineSearchWarning)\n",
      "/opt/conda/lib/python3.6/site-packages/sklearn/utils/optimize.py:195: UserWarning: Line Search failed\n",
      "  warnings.warn('Line Search failed')\n"
     ]
    }
   ],
   "source": [
    "# Início da contagem\n",
    "start = time.time()\n",
    "\n",
    "lr = LogisticRegression(penalty = 'l2', solver = 'newton-cg')\n",
    "\n",
    "lr_scores = cross_val_score(lr, x_train, y_train, cv=10)\n",
    "\n",
    "lr.fit(x_train, y_train)\n",
    "\n",
    "# Término da contagem\n",
    "end = time.time()"
   ]
  },
  {
   "cell_type": "code",
   "execution_count": 40,
   "metadata": {},
   "outputs": [
    {
     "name": "stdout",
     "output_type": "stream",
     "text": [
      "[LR] Tempo Necessário em segundos: 18.827109336853027\n"
     ]
    },
    {
     "data": {
      "text/plain": [
       "array([0.81056187, 0.81234644, 0.81357494, 0.81265356, 0.81081081,\n",
       "       0.81633907, 0.81265356, 0.8227887 , 0.82217445, 0.81664619])"
      ]
     },
     "execution_count": 40,
     "metadata": {},
     "output_type": "execute_result"
    }
   ],
   "source": [
    "time_lr = end - start\n",
    "\n",
    "print (\"[LR] Tempo Necessário em segundos:\", time_lr)\n",
    "lr_scores"
   ]
  },
  {
   "cell_type": "code",
   "execution_count": 41,
   "metadata": {},
   "outputs": [
    {
     "name": "stdout",
     "output_type": "stream",
     "text": [
      "[[11746   689]\n",
      " [ 2335  1511]]\n",
      "              precision    recall  f1-score   support\n",
      "\n",
      "           0       0.83      0.94      0.89     12435\n",
      "           1       0.69      0.39      0.50      3846\n",
      "\n",
      "    accuracy                           0.81     16281\n",
      "   macro avg       0.76      0.67      0.69     16281\n",
      "weighted avg       0.80      0.81      0.79     16281\n",
      "\n",
      "Accuracy:  0.814262023217247\n"
     ]
    }
   ],
   "source": [
    "predict_lr = lr.predict(x_test)\n",
    "\n",
    "print(confusion_matrix(y_test, predict_lr))\n",
    "print(classification_report(y_test, predict_lr))\n",
    "\n",
    "acc_lr = accuracy_score(y_test, predict_lr)\n",
    "print('Accuracy: ', acc_lr)"
   ]
  },
  {
   "cell_type": "markdown",
   "metadata": {},
   "source": [
    "### 2.2 Random Forest"
   ]
  },
  {
   "cell_type": "code",
   "execution_count": 42,
   "metadata": {},
   "outputs": [],
   "source": [
    "# Início da contagem\n",
    "start = time.time()\n",
    "\n",
    "rf = RandomForestClassifier(n_estimators = 700, max_depth = 12)\n",
    "\n",
    "rf_scores = cross_val_score(rf, x_train, y_train, cv=10)\n",
    "\n",
    "rf.fit(x_train, y_train)\n",
    "\n",
    "# Término da contagem\n",
    "end = time.time()"
   ]
  },
  {
   "cell_type": "code",
   "execution_count": 43,
   "metadata": {},
   "outputs": [
    {
     "name": "stdout",
     "output_type": "stream",
     "text": [
      "[RF] Tempo Necessário em segundos: 161.65563321113586\n"
     ]
    },
    {
     "data": {
      "text/plain": [
       "array([0.83635247, 0.84613022, 0.84244472, 0.83845209, 0.83906634,\n",
       "       0.84244472, 0.83875921, 0.8519656 , 0.84244472, 0.83998771])"
      ]
     },
     "execution_count": 43,
     "metadata": {},
     "output_type": "execute_result"
    }
   ],
   "source": [
    "time_rf = end - start\n",
    "\n",
    "print (\"[RF] Tempo Necessário em segundos:\", time_rf)\n",
    "rf_scores"
   ]
  },
  {
   "cell_type": "code",
   "execution_count": 44,
   "metadata": {},
   "outputs": [
    {
     "name": "stdout",
     "output_type": "stream",
     "text": [
      "[[11993   442]\n",
      " [ 2155  1691]]\n",
      "              precision    recall  f1-score   support\n",
      "\n",
      "           0       0.85      0.96      0.90     12435\n",
      "           1       0.79      0.44      0.57      3846\n",
      "\n",
      "    accuracy                           0.84     16281\n",
      "   macro avg       0.82      0.70      0.73     16281\n",
      "weighted avg       0.83      0.84      0.82     16281\n",
      "\n",
      "Accuracy:  0.8404889134574043\n"
     ]
    }
   ],
   "source": [
    "predict_rf = rf.predict(x_test)\n",
    "\n",
    "print(confusion_matrix(y_test, predict_rf))\n",
    "print(classification_report(y_test, predict_rf))\n",
    "\n",
    "acc_rf = accuracy_score(y_test, predict_rf)\n",
    "print('Accuracy: ', acc_rf)"
   ]
  },
  {
   "cell_type": "markdown",
   "metadata": {},
   "source": [
    "### 2.3 Support Vector Machine"
   ]
  },
  {
   "cell_type": "code",
   "execution_count": 45,
   "metadata": {},
   "outputs": [],
   "source": [
    "# Início da contagem\n",
    "start = time.time()\n",
    "\n",
    "svm = SVC(gamma = 'scale', kernel = 'rbf')\n",
    "\n",
    "svm_scores = cross_val_score(svm, x_train, y_train, cv=10)\n",
    "\n",
    "svm.fit(x_train,y_train)\n",
    "\n",
    "# Término da contagem\n",
    "end = time.time()"
   ]
  },
  {
   "cell_type": "code",
   "execution_count": 46,
   "metadata": {},
   "outputs": [
    {
     "name": "stdout",
     "output_type": "stream",
     "text": [
      "[SVM] Tempo Necessário em segundos: 224.85902905464172\n"
     ]
    },
    {
     "data": {
      "text/plain": [
       "array([0.79766656, 0.80835381, 0.79914005, 0.80497543, 0.80067568,\n",
       "       0.80405405, 0.79238329, 0.80681818, 0.80067568, 0.80866093])"
      ]
     },
     "execution_count": 46,
     "metadata": {},
     "output_type": "execute_result"
    }
   ],
   "source": [
    "time_svm = end-start\n",
    "\n",
    "print (\"[SVM] Tempo Necessário em segundos:\", time_svm)\n",
    "svm_scores"
   ]
  },
  {
   "cell_type": "code",
   "execution_count": 47,
   "metadata": {},
   "outputs": [
    {
     "name": "stdout",
     "output_type": "stream",
     "text": [
      "[[12031   404]\n",
      " [ 2813  1033]]\n",
      "              precision    recall  f1-score   support\n",
      "\n",
      "           0       0.81      0.97      0.88     12435\n",
      "           1       0.72      0.27      0.39      3846\n",
      "\n",
      "    accuracy                           0.80     16281\n",
      "   macro avg       0.76      0.62      0.64     16281\n",
      "weighted avg       0.79      0.80      0.77     16281\n",
      "\n",
      "Accuracy:  0.8024077145138505\n"
     ]
    }
   ],
   "source": [
    "predict_svm = svm.predict(x_test)\n",
    "\n",
    "print(confusion_matrix(y_test, predict_svm))\n",
    "print(classification_report(y_test, predict_svm))\n",
    "\n",
    "acc_svm = accuracy_score(y_test, predict_svm)\n",
    "print('Accuracy: ', acc_svm)"
   ]
  },
  {
   "cell_type": "markdown",
   "metadata": {},
   "source": [
    "### 2.4 AdaBoost"
   ]
  },
  {
   "cell_type": "markdown",
   "metadata": {},
   "source": [
    "O algoritmo mais famoso de Boosting é o AdaBoost e também foi apresentado na disciplina PMR3508, logo, é interessante visualizar sua perfomance para o problema em questão."
   ]
  },
  {
   "cell_type": "code",
   "execution_count": 48,
   "metadata": {},
   "outputs": [],
   "source": [
    "# Início da contagem\n",
    "start = time.time()\n",
    "\n",
    "boost = AdaBoostClassifier(n_estimators=100)\n",
    "\n",
    "boost_scores = cross_val_score(boost, x_train, y_train, cv=10)\n",
    "\n",
    "boost.fit(x_train,y_train)\n",
    "\n",
    "# Término da contagem\n",
    "end = time.time()"
   ]
  },
  {
   "cell_type": "code",
   "execution_count": 49,
   "metadata": {},
   "outputs": [
    {
     "name": "stdout",
     "output_type": "stream",
     "text": [
      "[AdaBoost] Tempo Necessário em segundos: 19.74512481689453\n"
     ]
    },
    {
     "data": {
      "text/plain": [
       "array([0.83788763, 0.84520885, 0.84121622, 0.83630221, 0.84090909,\n",
       "       0.84551597, 0.84090909, 0.8495086 , 0.84613022, 0.84305897])"
      ]
     },
     "execution_count": 49,
     "metadata": {},
     "output_type": "execute_result"
    }
   ],
   "source": [
    "time_boost = end-start\n",
    "\n",
    "print (\"[AdaBoost] Tempo Necessário em segundos:\", time_boost)\n",
    "boost_scores"
   ]
  },
  {
   "cell_type": "code",
   "execution_count": 50,
   "metadata": {},
   "outputs": [
    {
     "name": "stdout",
     "output_type": "stream",
     "text": [
      "[[11864   571]\n",
      " [ 2046  1800]]\n",
      "              precision    recall  f1-score   support\n",
      "\n",
      "           0       0.85      0.95      0.90     12435\n",
      "           1       0.76      0.47      0.58      3846\n",
      "\n",
      "    accuracy                           0.84     16281\n",
      "   macro avg       0.81      0.71      0.74     16281\n",
      "weighted avg       0.83      0.84      0.82     16281\n",
      "\n",
      "Accuracy:  0.8392604876850316\n"
     ]
    }
   ],
   "source": [
    "predict_boost = boost.predict(x_test)\n",
    "\n",
    "print(confusion_matrix(y_test, predict_boost))\n",
    "print(classification_report(y_test, predict_boost))\n",
    "\n",
    "acc_boost = accuracy_score(y_test, predict_boost)\n",
    "print('Accuracy: ', acc_boost)"
   ]
  },
  {
   "cell_type": "markdown",
   "metadata": {},
   "source": [
    "### 2.5 Multilayer Perceptron (MLP)"
   ]
  },
  {
   "cell_type": "markdown",
   "metadata": {},
   "source": [
    "A biblioteca sklearn possui um módulo que nos permite usar um modelo de Rede Neural simples, mais precisamente uma MLP, que é tratado como uma caixa preta, um dos motivos pelo qual a biblioteca não está entre as mais utilizadas para esse fim."
   ]
  },
  {
   "cell_type": "code",
   "execution_count": 51,
   "metadata": {},
   "outputs": [
    {
     "name": "stderr",
     "output_type": "stream",
     "text": [
      "/opt/conda/lib/python3.6/site-packages/sklearn/neural_network/multilayer_perceptron.py:566: ConvergenceWarning: Stochastic Optimizer: Maximum iterations (200) reached and the optimization hasn't converged yet.\n",
      "  % self.max_iter, ConvergenceWarning)\n",
      "/opt/conda/lib/python3.6/site-packages/sklearn/neural_network/multilayer_perceptron.py:566: ConvergenceWarning: Stochastic Optimizer: Maximum iterations (200) reached and the optimization hasn't converged yet.\n",
      "  % self.max_iter, ConvergenceWarning)\n",
      "/opt/conda/lib/python3.6/site-packages/sklearn/neural_network/multilayer_perceptron.py:566: ConvergenceWarning: Stochastic Optimizer: Maximum iterations (200) reached and the optimization hasn't converged yet.\n",
      "  % self.max_iter, ConvergenceWarning)\n",
      "/opt/conda/lib/python3.6/site-packages/sklearn/neural_network/multilayer_perceptron.py:566: ConvergenceWarning: Stochastic Optimizer: Maximum iterations (200) reached and the optimization hasn't converged yet.\n",
      "  % self.max_iter, ConvergenceWarning)\n",
      "/opt/conda/lib/python3.6/site-packages/sklearn/neural_network/multilayer_perceptron.py:566: ConvergenceWarning: Stochastic Optimizer: Maximum iterations (200) reached and the optimization hasn't converged yet.\n",
      "  % self.max_iter, ConvergenceWarning)\n",
      "/opt/conda/lib/python3.6/site-packages/sklearn/neural_network/multilayer_perceptron.py:566: ConvergenceWarning: Stochastic Optimizer: Maximum iterations (200) reached and the optimization hasn't converged yet.\n",
      "  % self.max_iter, ConvergenceWarning)\n",
      "/opt/conda/lib/python3.6/site-packages/sklearn/neural_network/multilayer_perceptron.py:566: ConvergenceWarning: Stochastic Optimizer: Maximum iterations (200) reached and the optimization hasn't converged yet.\n",
      "  % self.max_iter, ConvergenceWarning)\n",
      "/opt/conda/lib/python3.6/site-packages/sklearn/neural_network/multilayer_perceptron.py:566: ConvergenceWarning: Stochastic Optimizer: Maximum iterations (200) reached and the optimization hasn't converged yet.\n",
      "  % self.max_iter, ConvergenceWarning)\n",
      "/opt/conda/lib/python3.6/site-packages/sklearn/neural_network/multilayer_perceptron.py:566: ConvergenceWarning: Stochastic Optimizer: Maximum iterations (200) reached and the optimization hasn't converged yet.\n",
      "  % self.max_iter, ConvergenceWarning)\n",
      "/opt/conda/lib/python3.6/site-packages/sklearn/neural_network/multilayer_perceptron.py:566: ConvergenceWarning: Stochastic Optimizer: Maximum iterations (200) reached and the optimization hasn't converged yet.\n",
      "  % self.max_iter, ConvergenceWarning)\n",
      "/opt/conda/lib/python3.6/site-packages/sklearn/neural_network/multilayer_perceptron.py:566: ConvergenceWarning: Stochastic Optimizer: Maximum iterations (200) reached and the optimization hasn't converged yet.\n",
      "  % self.max_iter, ConvergenceWarning)\n"
     ]
    }
   ],
   "source": [
    "# Início da contagem\n",
    "start = time.time()\n",
    "\n",
    "mlp = MLPClassifier(activation='relu', solver = 'adam')\n",
    "\n",
    "mlp_scores = cross_val_score(mlp, x_train, y_train, cv=10)\n",
    "\n",
    "mlp.fit(x_train,y_train)\n",
    "\n",
    "# Término da contagem\n",
    "end = time.time()"
   ]
  },
  {
   "cell_type": "code",
   "execution_count": 52,
   "metadata": {},
   "outputs": [
    {
     "name": "stdout",
     "output_type": "stream",
     "text": [
      "[MLP] Time elapsed: 435.12939643859863\n"
     ]
    },
    {
     "data": {
      "text/plain": [
       "array([0.81455327, 0.83261671, 0.82800983, 0.81388206, 0.81050369,\n",
       "       0.82585995, 0.80251843, 0.82248157, 0.82831695, 0.80835381])"
      ]
     },
     "execution_count": 52,
     "metadata": {},
     "output_type": "execute_result"
    }
   ],
   "source": [
    "time_mlp = end-start\n",
    "\n",
    "print (\"[MLP] Time elapsed:\", time_mlp)\n",
    "mlp_scores"
   ]
  },
  {
   "cell_type": "code",
   "execution_count": 53,
   "metadata": {},
   "outputs": [
    {
     "name": "stdout",
     "output_type": "stream",
     "text": [
      "[[11878   557]\n",
      " [ 2397  1449]]\n",
      "              precision    recall  f1-score   support\n",
      "\n",
      "           0       0.83      0.96      0.89     12435\n",
      "           1       0.72      0.38      0.50      3846\n",
      "\n",
      "    accuracy                           0.82     16281\n",
      "   macro avg       0.78      0.67      0.69     16281\n",
      "weighted avg       0.81      0.82      0.80     16281\n",
      "\n",
      "Accuracy:  0.8185615134205516\n"
     ]
    }
   ],
   "source": [
    "predict_mlp = mlp.predict(x_test)\n",
    "\n",
    "print(confusion_matrix(y_test, predict_mlp))\n",
    "print(classification_report(y_test, predict_mlp))\n",
    "\n",
    "acc_mlp = accuracy_score(y_test, predict_mlp)\n",
    "print('Accuracy: ', acc_mlp)"
   ]
  },
  {
   "cell_type": "markdown",
   "metadata": {},
   "source": [
    "## 3. Análise dos Resultados e Conclusões"
   ]
  },
  {
   "cell_type": "markdown",
   "metadata": {},
   "source": [
    "### 3.1 Acurácia"
   ]
  },
  {
   "cell_type": "code",
   "execution_count": 54,
   "metadata": {},
   "outputs": [],
   "source": [
    "classificadores = ['kNN', 'Logistic Regression', 'Random Forest', 'SVM', 'AdaBoost', 'MLP']\n",
    "\n",
    "acc = [acc_knn, acc_lr, acc_rf, acc_svm, acc_boost, acc_mlp]"
   ]
  },
  {
   "cell_type": "code",
   "execution_count": 55,
   "metadata": {},
   "outputs": [
    {
     "data": {
      "text/plain": [
       "Text(0.5, 1.0, 'Perfomance do Classificador')"
      ]
     },
     "execution_count": 55,
     "metadata": {},
     "output_type": "execute_result"
    },
    {
     "data": {
      "image/png": "[encoded data removed]",
      "text/plain": [
       "<Figure size 720x360 with 1 Axes>"
      ]
     },
     "metadata": {
      "needs_background": "light"
     },
     "output_type": "display_data"
    }
   ],
   "source": [
    "plt.figure(figsize=(10, 5))\n",
    "plt.plot(classificadores, acc, color = 'grey', linewidth = 2, marker = 'o', markersize = 12, markerfacecolor = 'orange')\n",
    "\n",
    "plt.xlabel('Classificadores')\n",
    "plt.ylabel('Acurácia')\n",
    "plt.title('Perfomance do Classificador')"
   ]
  },
  {
   "cell_type": "markdown",
   "metadata": {},
   "source": [
    "### 3.2 Tempo de Processamento"
   ]
  },
  {
   "cell_type": "code",
   "execution_count": 56,
   "metadata": {},
   "outputs": [],
   "source": [
    "time = [time_knn, time_lr, time_rf, time_svm, time_boost, time_mlp]"
   ]
  },
  {
   "cell_type": "code",
   "execution_count": 57,
   "metadata": {},
   "outputs": [
    {
     "data": {
      "text/plain": [
       "Text(0.5, 1.0, 'Tempo de Processamento para cada Classificador')"
      ]
     },
     "execution_count": 57,
     "metadata": {},
     "output_type": "execute_result"
    },
    {
     "data": {
      "image/png": "[encoded data removed]",
      "text/plain": [
       "<Figure size 720x360 with 1 Axes>"
      ]
     },
     "metadata": {
      "needs_background": "light"
     },
     "output_type": "display_data"
    }
   ],
   "source": [
    "plt.figure(figsize=(10, 5))\n",
    "plt.plot(classificadores, time, color = 'grey', linewidth = 2, marker = 'o', markersize = 12, markerfacecolor = 'orange')\n",
    "\n",
    "plt.xlabel('Classificadores')\n",
    "plt.ylabel('Tempo de Processamento')\n",
    "plt.title('Tempo de Processamento para cada Classificador')"
   ]
  },
  {
   "cell_type": "markdown",
   "metadata": {},
   "source": [
    "### 3.3 Análise dos Classificadores"
   ]
  },
  {
   "cell_type": "markdown",
   "metadata": {},
   "source": [
    "A seguir segue uma análise geral de cada classificador acerca dos resultados obtidos, tendo como destaque a dificuldade de gerar o classificador, interpretabilidade, tempo de processamento no treinamento e desempenho nas métricas utilizadas.\n",
    "\n",
    "O primeiro classificador testado foi o **K-Nearest Neighbors (kNN)**, sendo o primeiro classificador estudado na disciplina PMR3508 e que fez parte do 1º Trabalho atuando justamente sobre o Dataset Adult. Dentre os classificadores utilizados foi aquele que apresentou menor tempo de processamento devido a sua simplicidade, além da melhor acurácia, uma vez que apresenta apenas um principal hiperparâmetro (número de vizinhos - k), logo, por validação cruzada é muito simples de encontrar o melhor hiperâmetro que maximiza a acurácia. Em termos de interpretabilidade é facilmente compreendido, uma vez que o conceito por trás é bem simplório, apesar de eficiente.\n",
    "\n",
    "Em seguida foi utilizado a **Regressão Logística**, técnica bem famosa da família das regressões e que teoricamente se encaixa bem ao problema em questão, uma vez que trabalha com variável dependente categórica. Apresentou pequeno tempo de processamento sendo o segundo mais rápido, porém com acurácia baixa. Sua interpretabilidade é fácil, uma vez que apresenta o conceito de regressão, ou seja, há a atribuição de maiores pesos às variáveis independentes (features) mais relevantes para a classificação.\n",
    "\n",
    "O terceiro algoritmo utilizado foi o **Random Forest** (Floresta Aleatória), sendo este mais complexo que os citamos anteriormente, o que também explica o maior tempo de processamento no treinamento, além de ter apresentado uma acurácia bem interessante. Tal algoritmo é baseado no conceito de Árvores de Decisão, uma vez que várias árvores são utilizadas para fazer a classificação e a média delas é computada para se tomar a decisão. Apesar da construção do Random Forest envolver uma composição de árvores e que para cada árvore são escolhidos atributos aleatórios, a interpretabilidade ainda é um dos pontos de destaque, pois a Árvore de Decisão em si é fácil de entender e a Floresta Aleatória leva em consideração a maioria das escolhas de suas árvores. \n",
    "\n",
    "O quarto algoritmo utilizado foi o **Suport Vector Machine** (SVM). No geral foi o pior classificador tanto na acurácia quanto em tempo de processamento no treinamento, segundo o segundo mais demorado . Por se tratar de um dos algoritmos mais complexos testados, sua interpretabilidade é ruim, principalmente levando em consideração a atuação do Kernel, isto é, hiperparâmetro que permite tonrar o SVM mais efetivo para espaços de maior dimensão utilizando funções envolvendo os atributos.\n",
    "\n",
    "Em seguida foi utilizado um famoso algoritmo de Boosting, o **AdaBoost**. Dentre todos os classificadores utilizados foi aquele com o segundo melhor desempenho, levando em consideração o tempo de processamento no treinamento e a acurácia. Seu funcionamento se baseia na utilização de classificadores simples para determinadas amostras do dataset, sendo que apresentam um comportamento sequencial, isto é, as classificações são realizadas sequencialmente e sempre levando em consideração o que já foi feito anteriormente, sendo uma forma de se adequar aos erros. A ideia em si é simples, mas em termos de interpretabilidade não.\n",
    "\n",
    "Por último procurou-se utilizar uma rede neural básica chamada **Multilayer Perceptron** (MLP). Sua interpretabilidade é ruim, uma vez que para leigos é uma \"caixa preta\". Apresentou uma acurácia razoável, porém o tempo de processamento foi o maior entre os classificadores, o que explicita a sua complexidade. A dificuldade na criação do classificador é o principal detalhe a ser destacado, uma vez que há muitos hiperparâmetros e a escolha sábia deles é fundamental para um bom resultado."
   ]
  },
  {
   "cell_type": "markdown",
   "metadata": {},
   "source": [
    "## 4. Base CaliforniaHousing - Extra"
   ]
  },
  {
   "cell_type": "code",
   "execution_count": 58,
   "metadata": {},
   "outputs": [],
   "source": [
    "# Manipulação dos dados\n",
    "import pandas as pd\n",
    "import numpy as np\n",
    "\n",
    "# Visualização \n",
    "import matplotlib.pyplot as plt\n",
    "import seaborn as sns\n",
    "import os\n",
    "import time\n",
    "%matplotlib inline\n",
    "\n",
    "# Estatística\n",
    "import scipy\n",
    "from scipy import stats\n",
    "\n",
    "# Regressores\n",
    "import sklearn\n",
    "from sklearn.neighbors import KNeighborsRegressor\n",
    "from sklearn.linear_model import LinearRegression\n",
    "from sklearn import tree\n",
    "\n",
    "# Avaliação\n",
    "from sklearn.model_selection import cross_val_score\n",
    "from sklearn.metrics import mean_squared_error, make_scorer"
   ]
  },
  {
   "cell_type": "code",
   "execution_count": 59,
   "metadata": {},
   "outputs": [
    {
     "data": {
      "text/plain": [
       "['train.csv', 'test.csv']"
      ]
     },
     "execution_count": 59,
     "metadata": {},
     "output_type": "execute_result"
    }
   ],
   "source": [
    "os.listdir(\"../input/base-californiahousing\")"
   ]
  },
  {
   "cell_type": "markdown",
   "metadata": {},
   "source": [
    "### 4.1 Entendendo os Dados"
   ]
  },
  {
   "cell_type": "code",
   "execution_count": 60,
   "metadata": {
    "scrolled": true
   },
   "outputs": [
    {
     "data": {
      "text/html": [
       "<div>\n",
       "<style scoped>\n",
       "    .dataframe tbody tr th:only-of-type {\n",
       "        vertical-align: middle;\n",
       "    }\n",
       "\n",
       "    .dataframe tbody tr th {\n",
       "        vertical-align: top;\n",
       "    }\n",
       "\n",
       "    .dataframe thead th {\n",
       "        text-align: right;\n",
       "    }\n",
       "</style>\n",
       "<table border=\"1\" class=\"dataframe\">\n",
       "  <thead>\n",
       "    <tr style=\"text-align: right;\">\n",
       "      <th></th>\n",
       "      <th>Id</th>\n",
       "      <th>longitude</th>\n",
       "      <th>latitude</th>\n",
       "      <th>median_age</th>\n",
       "      <th>total_rooms</th>\n",
       "      <th>total_bedrooms</th>\n",
       "      <th>population</th>\n",
       "      <th>households</th>\n",
       "      <th>median_income</th>\n",
       "      <th>median_house_value</th>\n",
       "    </tr>\n",
       "  </thead>\n",
       "  <tbody>\n",
       "    <tr>\n",
       "      <th>0</th>\n",
       "      <td>15817</td>\n",
       "      <td>-120.85</td>\n",
       "      <td>37.57</td>\n",
       "      <td>27</td>\n",
       "      <td>819</td>\n",
       "      <td>157</td>\n",
       "      <td>451</td>\n",
       "      <td>150</td>\n",
       "      <td>34934</td>\n",
       "      <td>193800</td>\n",
       "    </tr>\n",
       "    <tr>\n",
       "      <th>1</th>\n",
       "      <td>6236</td>\n",
       "      <td>-117.74</td>\n",
       "      <td>34.06</td>\n",
       "      <td>48</td>\n",
       "      <td>2438</td>\n",
       "      <td>599</td>\n",
       "      <td>1508</td>\n",
       "      <td>548</td>\n",
       "      <td>28983</td>\n",
       "      <td>129200</td>\n",
       "    </tr>\n",
       "    <tr>\n",
       "      <th>2</th>\n",
       "      <td>19262</td>\n",
       "      <td>-118.11</td>\n",
       "      <td>33.92</td>\n",
       "      <td>32</td>\n",
       "      <td>1016</td>\n",
       "      <td>190</td>\n",
       "      <td>729</td>\n",
       "      <td>177</td>\n",
       "      <td>43000</td>\n",
       "      <td>151300</td>\n",
       "    </tr>\n",
       "    <tr>\n",
       "      <th>3</th>\n",
       "      <td>19743</td>\n",
       "      <td>-118.12</td>\n",
       "      <td>34.15</td>\n",
       "      <td>35</td>\n",
       "      <td>1760</td>\n",
       "      <td>447</td>\n",
       "      <td>984</td>\n",
       "      <td>384</td>\n",
       "      <td>34167</td>\n",
       "      <td>198200</td>\n",
       "    </tr>\n",
       "    <tr>\n",
       "      <th>4</th>\n",
       "      <td>7272</td>\n",
       "      <td>-120.63</td>\n",
       "      <td>37.41</td>\n",
       "      <td>27</td>\n",
       "      <td>2083</td>\n",
       "      <td>444</td>\n",
       "      <td>1462</td>\n",
       "      <td>479</td>\n",
       "      <td>26439</td>\n",
       "      <td>69100</td>\n",
       "    </tr>\n",
       "  </tbody>\n",
       "</table>\n",
       "</div>"
      ],
      "text/plain": [
       "      Id  longitude  latitude  median_age  total_rooms  total_bedrooms  \\\n",
       "0  15817    -120.85     37.57          27          819             157   \n",
       "1   6236    -117.74     34.06          48         2438             599   \n",
       "2  19262    -118.11     33.92          32         1016             190   \n",
       "3  19743    -118.12     34.15          35         1760             447   \n",
       "4   7272    -120.63     37.41          27         2083             444   \n",
       "\n",
       "   population  households  median_income  median_house_value  \n",
       "0         451         150          34934              193800  \n",
       "1        1508         548          28983              129200  \n",
       "2         729         177          43000              151300  \n",
       "3         984         384          34167              198200  \n",
       "4        1462         479          26439               69100  "
      ]
     },
     "execution_count": 60,
     "metadata": {},
     "output_type": "execute_result"
    }
   ],
   "source": [
    "data = pd.read_csv(\"../input/base-californiahousing/train.csv\", na_values= \"?\")\n",
    "\n",
    "data.head()"
   ]
  },
  {
   "cell_type": "code",
   "execution_count": 61,
   "metadata": {
    "scrolled": false
   },
   "outputs": [
    {
     "data": {
      "text/html": [
       "<div>\n",
       "<style scoped>\n",
       "    .dataframe tbody tr th:only-of-type {\n",
       "        vertical-align: middle;\n",
       "    }\n",
       "\n",
       "    .dataframe tbody tr th {\n",
       "        vertical-align: top;\n",
       "    }\n",
       "\n",
       "    .dataframe thead th {\n",
       "        text-align: right;\n",
       "    }\n",
       "</style>\n",
       "<table border=\"1\" class=\"dataframe\">\n",
       "  <thead>\n",
       "    <tr style=\"text-align: right;\">\n",
       "      <th></th>\n",
       "      <th>Id</th>\n",
       "      <th>longitude</th>\n",
       "      <th>latitude</th>\n",
       "      <th>median_age</th>\n",
       "      <th>total_rooms</th>\n",
       "      <th>total_bedrooms</th>\n",
       "      <th>population</th>\n",
       "      <th>households</th>\n",
       "      <th>median_income</th>\n",
       "      <th>median_house_value</th>\n",
       "    </tr>\n",
       "  </thead>\n",
       "  <tbody>\n",
       "    <tr>\n",
       "      <th>count</th>\n",
       "      <td>14448.000000</td>\n",
       "      <td>14448.000000</td>\n",
       "      <td>14448.000000</td>\n",
       "      <td>14448.000000</td>\n",
       "      <td>14448.000000</td>\n",
       "      <td>14448.000000</td>\n",
       "      <td>14448.000000</td>\n",
       "      <td>14448.000000</td>\n",
       "      <td>14448.000000</td>\n",
       "      <td>14448.000000</td>\n",
       "    </tr>\n",
       "    <tr>\n",
       "      <th>mean</th>\n",
       "      <td>10277.163621</td>\n",
       "      <td>-119.563050</td>\n",
       "      <td>35.625804</td>\n",
       "      <td>28.700028</td>\n",
       "      <td>2622.627284</td>\n",
       "      <td>535.628391</td>\n",
       "      <td>1413.978405</td>\n",
       "      <td>496.934109</td>\n",
       "      <td>38747.577450</td>\n",
       "      <td>207556.603267</td>\n",
       "    </tr>\n",
       "    <tr>\n",
       "      <th>std</th>\n",
       "      <td>5956.576981</td>\n",
       "      <td>2.008096</td>\n",
       "      <td>2.138690</td>\n",
       "      <td>12.587508</td>\n",
       "      <td>2145.423570</td>\n",
       "      <td>416.800426</td>\n",
       "      <td>1095.060629</td>\n",
       "      <td>376.873380</td>\n",
       "      <td>19091.513037</td>\n",
       "      <td>116441.436255</td>\n",
       "    </tr>\n",
       "    <tr>\n",
       "      <th>min</th>\n",
       "      <td>0.000000</td>\n",
       "      <td>-124.350000</td>\n",
       "      <td>32.550000</td>\n",
       "      <td>1.000000</td>\n",
       "      <td>2.000000</td>\n",
       "      <td>2.000000</td>\n",
       "      <td>3.000000</td>\n",
       "      <td>2.000000</td>\n",
       "      <td>4999.000000</td>\n",
       "      <td>14999.000000</td>\n",
       "    </tr>\n",
       "    <tr>\n",
       "      <th>25%</th>\n",
       "      <td>5124.750000</td>\n",
       "      <td>-121.790000</td>\n",
       "      <td>33.930000</td>\n",
       "      <td>18.000000</td>\n",
       "      <td>1444.000000</td>\n",
       "      <td>295.000000</td>\n",
       "      <td>784.000000</td>\n",
       "      <td>279.000000</td>\n",
       "      <td>25596.500000</td>\n",
       "      <td>119300.000000</td>\n",
       "    </tr>\n",
       "    <tr>\n",
       "      <th>50%</th>\n",
       "      <td>10254.500000</td>\n",
       "      <td>-118.490000</td>\n",
       "      <td>34.250000</td>\n",
       "      <td>29.000000</td>\n",
       "      <td>2116.000000</td>\n",
       "      <td>432.000000</td>\n",
       "      <td>1160.000000</td>\n",
       "      <td>407.000000</td>\n",
       "      <td>35334.000000</td>\n",
       "      <td>179950.000000</td>\n",
       "    </tr>\n",
       "    <tr>\n",
       "      <th>75%</th>\n",
       "      <td>15413.750000</td>\n",
       "      <td>-118.000000</td>\n",
       "      <td>37.710000</td>\n",
       "      <td>37.000000</td>\n",
       "      <td>3131.250000</td>\n",
       "      <td>645.250000</td>\n",
       "      <td>1705.000000</td>\n",
       "      <td>602.000000</td>\n",
       "      <td>47500.000000</td>\n",
       "      <td>266100.000000</td>\n",
       "    </tr>\n",
       "    <tr>\n",
       "      <th>max</th>\n",
       "      <td>20639.000000</td>\n",
       "      <td>-114.470000</td>\n",
       "      <td>41.950000</td>\n",
       "      <td>52.000000</td>\n",
       "      <td>39320.000000</td>\n",
       "      <td>6445.000000</td>\n",
       "      <td>28566.000000</td>\n",
       "      <td>6082.000000</td>\n",
       "      <td>150001.000000</td>\n",
       "      <td>500001.000000</td>\n",
       "    </tr>\n",
       "  </tbody>\n",
       "</table>\n",
       "</div>"
      ],
      "text/plain": [
       "                 Id     longitude      latitude    median_age   total_rooms  \\\n",
       "count  14448.000000  14448.000000  14448.000000  14448.000000  14448.000000   \n",
       "mean   10277.163621   -119.563050     35.625804     28.700028   2622.627284   \n",
       "std     5956.576981      2.008096      2.138690     12.587508   2145.423570   \n",
       "min        0.000000   -124.350000     32.550000      1.000000      2.000000   \n",
       "25%     5124.750000   -121.790000     33.930000     18.000000   1444.000000   \n",
       "50%    10254.500000   -118.490000     34.250000     29.000000   2116.000000   \n",
       "75%    15413.750000   -118.000000     37.710000     37.000000   3131.250000   \n",
       "max    20639.000000   -114.470000     41.950000     52.000000  39320.000000   \n",
       "\n",
       "       total_bedrooms    population    households  median_income  \\\n",
       "count    14448.000000  14448.000000  14448.000000   14448.000000   \n",
       "mean       535.628391   1413.978405    496.934109   38747.577450   \n",
       "std        416.800426   1095.060629    376.873380   19091.513037   \n",
       "min          2.000000      3.000000      2.000000    4999.000000   \n",
       "25%        295.000000    784.000000    279.000000   25596.500000   \n",
       "50%        432.000000   1160.000000    407.000000   35334.000000   \n",
       "75%        645.250000   1705.000000    602.000000   47500.000000   \n",
       "max       6445.000000  28566.000000   6082.000000  150001.000000   \n",
       "\n",
       "       median_house_value  \n",
       "count        14448.000000  \n",
       "mean        207556.603267  \n",
       "std         116441.436255  \n",
       "min          14999.000000  \n",
       "25%         119300.000000  \n",
       "50%         179950.000000  \n",
       "75%         266100.000000  \n",
       "max         500001.000000  "
      ]
     },
     "execution_count": 61,
     "metadata": {},
     "output_type": "execute_result"
    }
   ],
   "source": [
    "data.describe()"
   ]
  },
  {
   "cell_type": "code",
   "execution_count": 62,
   "metadata": {},
   "outputs": [
    {
     "data": {
      "text/plain": [
       "(14448, 10)"
      ]
     },
     "execution_count": 62,
     "metadata": {},
     "output_type": "execute_result"
    }
   ],
   "source": [
    "data.shape"
   ]
  },
  {
   "cell_type": "markdown",
   "metadata": {},
   "source": [
    "Dataset de Teste"
   ]
  },
  {
   "cell_type": "code",
   "execution_count": 63,
   "metadata": {},
   "outputs": [
    {
     "data": {
      "text/html": [
       "<div>\n",
       "<style scoped>\n",
       "    .dataframe tbody tr th:only-of-type {\n",
       "        vertical-align: middle;\n",
       "    }\n",
       "\n",
       "    .dataframe tbody tr th {\n",
       "        vertical-align: top;\n",
       "    }\n",
       "\n",
       "    .dataframe thead th {\n",
       "        text-align: right;\n",
       "    }\n",
       "</style>\n",
       "<table border=\"1\" class=\"dataframe\">\n",
       "  <thead>\n",
       "    <tr style=\"text-align: right;\">\n",
       "      <th></th>\n",
       "      <th>Id</th>\n",
       "      <th>longitude</th>\n",
       "      <th>latitude</th>\n",
       "      <th>median_age</th>\n",
       "      <th>total_rooms</th>\n",
       "      <th>total_bedrooms</th>\n",
       "      <th>population</th>\n",
       "      <th>households</th>\n",
       "      <th>median_income</th>\n",
       "    </tr>\n",
       "  </thead>\n",
       "  <tbody>\n",
       "    <tr>\n",
       "      <th>0</th>\n",
       "      <td>8609</td>\n",
       "      <td>-118.67</td>\n",
       "      <td>34.30</td>\n",
       "      <td>5</td>\n",
       "      <td>6123</td>\n",
       "      <td>825</td>\n",
       "      <td>2440</td>\n",
       "      <td>736</td>\n",
       "      <td>79013</td>\n",
       "    </tr>\n",
       "    <tr>\n",
       "      <th>1</th>\n",
       "      <td>14610</td>\n",
       "      <td>-117.66</td>\n",
       "      <td>34.09</td>\n",
       "      <td>26</td>\n",
       "      <td>1151</td>\n",
       "      <td>200</td>\n",
       "      <td>593</td>\n",
       "      <td>188</td>\n",
       "      <td>36667</td>\n",
       "    </tr>\n",
       "    <tr>\n",
       "      <th>2</th>\n",
       "      <td>1557</td>\n",
       "      <td>-118.93</td>\n",
       "      <td>35.37</td>\n",
       "      <td>34</td>\n",
       "      <td>2412</td>\n",
       "      <td>446</td>\n",
       "      <td>1558</td>\n",
       "      <td>421</td>\n",
       "      <td>26903</td>\n",
       "    </tr>\n",
       "    <tr>\n",
       "      <th>3</th>\n",
       "      <td>12875</td>\n",
       "      <td>-117.23</td>\n",
       "      <td>34.14</td>\n",
       "      <td>16</td>\n",
       "      <td>2577</td>\n",
       "      <td>521</td>\n",
       "      <td>956</td>\n",
       "      <td>472</td>\n",
       "      <td>25625</td>\n",
       "    </tr>\n",
       "    <tr>\n",
       "      <th>4</th>\n",
       "      <td>17821</td>\n",
       "      <td>-121.06</td>\n",
       "      <td>38.98</td>\n",
       "      <td>14</td>\n",
       "      <td>2267</td>\n",
       "      <td>355</td>\n",
       "      <td>1140</td>\n",
       "      <td>369</td>\n",
       "      <td>47019</td>\n",
       "    </tr>\n",
       "  </tbody>\n",
       "</table>\n",
       "</div>"
      ],
      "text/plain": [
       "      Id  longitude  latitude  median_age  total_rooms  total_bedrooms  \\\n",
       "0   8609    -118.67     34.30           5         6123             825   \n",
       "1  14610    -117.66     34.09          26         1151             200   \n",
       "2   1557    -118.93     35.37          34         2412             446   \n",
       "3  12875    -117.23     34.14          16         2577             521   \n",
       "4  17821    -121.06     38.98          14         2267             355   \n",
       "\n",
       "   population  households  median_income  \n",
       "0        2440         736          79013  \n",
       "1         593         188          36667  \n",
       "2        1558         421          26903  \n",
       "3         956         472          25625  \n",
       "4        1140         369          47019  "
      ]
     },
     "execution_count": 63,
     "metadata": {},
     "output_type": "execute_result"
    }
   ],
   "source": [
    "test = pd.read_csv(\"../input/base-californiahousing/test.csv\", na_values= \"?\")\n",
    "\n",
    "test.head()"
   ]
  },
  {
   "cell_type": "code",
   "execution_count": 64,
   "metadata": {},
   "outputs": [
    {
     "data": {
      "text/plain": [
       "(6192, 9)"
      ]
     },
     "execution_count": 64,
     "metadata": {},
     "output_type": "execute_result"
    }
   ],
   "source": [
    "test.shape"
   ]
  },
  {
   "cell_type": "markdown",
   "metadata": {},
   "source": [
    "Análise dos dados faltantes"
   ]
  },
  {
   "cell_type": "code",
   "execution_count": 65,
   "metadata": {
    "scrolled": true
   },
   "outputs": [
    {
     "data": {
      "text/plain": [
       "Id                    0\n",
       "longitude             0\n",
       "latitude              0\n",
       "median_age            0\n",
       "total_rooms           0\n",
       "total_bedrooms        0\n",
       "population            0\n",
       "households            0\n",
       "median_income         0\n",
       "median_house_value    0\n",
       "dtype: int64"
      ]
     },
     "execution_count": 65,
     "metadata": {},
     "output_type": "execute_result"
    }
   ],
   "source": [
    "data.isnull().sum()"
   ]
  },
  {
   "cell_type": "code",
   "execution_count": 66,
   "metadata": {
    "scrolled": false
   },
   "outputs": [
    {
     "data": {
      "text/plain": [
       "Id                0\n",
       "longitude         0\n",
       "latitude          0\n",
       "median_age        0\n",
       "total_rooms       0\n",
       "total_bedrooms    0\n",
       "population        0\n",
       "households        0\n",
       "median_income     0\n",
       "dtype: int64"
      ]
     },
     "execution_count": 66,
     "metadata": {},
     "output_type": "execute_result"
    }
   ],
   "source": [
    "test.isnull().sum()"
   ]
  },
  {
   "cell_type": "markdown",
   "metadata": {},
   "source": [
    "Mapa de Calor"
   ]
  },
  {
   "cell_type": "code",
   "execution_count": 67,
   "metadata": {},
   "outputs": [
    {
     "data": {
      "text/plain": [
       "<matplotlib.axes._subplots.AxesSubplot at 0x7f944caee160>"
      ]
     },
     "execution_count": 67,
     "metadata": {},
     "output_type": "execute_result"
    },
    {
     "data": {
      "image/png": "[encoded data removed]",
      "text/plain": [
       "<Figure size 864x648 with 2 Axes>"
      ]
     },
     "metadata": {
      "needs_background": "light"
     },
     "output_type": "display_data"
    }
   ],
   "source": [
    "aux = data.drop('Id', axis = 1).corr()\n",
    "plt.figure(figsize=(12,9))\n",
    "sns.heatmap(aux)"
   ]
  },
  {
   "cell_type": "markdown",
   "metadata": {},
   "source": [
    "Coeficiente de Person entre as features e o atributo Target"
   ]
  },
  {
   "cell_type": "code",
   "execution_count": 68,
   "metadata": {
    "scrolled": true
   },
   "outputs": [],
   "source": [
    "data_aux = data.drop('Id', axis = 1)"
   ]
  },
  {
   "cell_type": "code",
   "execution_count": 69,
   "metadata": {},
   "outputs": [],
   "source": [
    "correlation = []\n",
    "param = []\n",
    "\n",
    "for i in data_aux.columns:\n",
    "    if i != 'median_house_value':\n",
    "        corr = stats.pearsonr(data_aux[i], data_aux['median_house_value'])[0]\n",
    "        correlation.append(corr)\n",
    "        param.append(i)\n",
    "    \n",
    "    "
   ]
  },
  {
   "cell_type": "code",
   "execution_count": 70,
   "metadata": {},
   "outputs": [
    {
     "data": {
      "text/html": [
       "<div>\n",
       "<style scoped>\n",
       "    .dataframe tbody tr th:only-of-type {\n",
       "        vertical-align: middle;\n",
       "    }\n",
       "\n",
       "    .dataframe tbody tr th {\n",
       "        vertical-align: top;\n",
       "    }\n",
       "\n",
       "    .dataframe thead th {\n",
       "        text-align: right;\n",
       "    }\n",
       "</style>\n",
       "<table border=\"1\" class=\"dataframe\">\n",
       "  <thead>\n",
       "    <tr style=\"text-align: right;\">\n",
       "      <th></th>\n",
       "      <th>Correlação</th>\n",
       "    </tr>\n",
       "    <tr>\n",
       "      <th>Parâmetros</th>\n",
       "      <th></th>\n",
       "    </tr>\n",
       "  </thead>\n",
       "  <tbody>\n",
       "    <tr>\n",
       "      <th>longitude</th>\n",
       "      <td>-0.044062</td>\n",
       "    </tr>\n",
       "    <tr>\n",
       "      <th>latitude</th>\n",
       "      <td>-0.147024</td>\n",
       "    </tr>\n",
       "    <tr>\n",
       "      <th>median_age</th>\n",
       "      <td>0.099341</td>\n",
       "    </tr>\n",
       "    <tr>\n",
       "      <th>total_rooms</th>\n",
       "      <td>0.139242</td>\n",
       "    </tr>\n",
       "    <tr>\n",
       "      <th>total_bedrooms</th>\n",
       "      <td>0.055533</td>\n",
       "    </tr>\n",
       "    <tr>\n",
       "      <th>population</th>\n",
       "      <td>-0.020434</td>\n",
       "    </tr>\n",
       "    <tr>\n",
       "      <th>households</th>\n",
       "      <td>0.071622</td>\n",
       "    </tr>\n",
       "    <tr>\n",
       "      <th>median_income</th>\n",
       "      <td>0.687604</td>\n",
       "    </tr>\n",
       "  </tbody>\n",
       "</table>\n",
       "</div>"
      ],
      "text/plain": [
       "                Correlação\n",
       "Parâmetros                \n",
       "longitude        -0.044062\n",
       "latitude         -0.147024\n",
       "median_age        0.099341\n",
       "total_rooms       0.139242\n",
       "total_bedrooms    0.055533\n",
       "population       -0.020434\n",
       "households        0.071622\n",
       "median_income     0.687604"
      ]
     },
     "execution_count": 70,
     "metadata": {},
     "output_type": "execute_result"
    }
   ],
   "source": [
    "dados = pd.DataFrame({'Correlação': correlation, 'Parâmetros': param})\n",
    "dados = dados.set_index('Parâmetros')\n",
    "\n",
    "dados"
   ]
  },
  {
   "cell_type": "markdown",
   "metadata": {},
   "source": [
    "A partir do Mapa de Calor e do Coeficiente de Correlação de Person, conclui-se que os atributos/features mais relevantes para a regressão são:\n",
    "\n",
    "- latitude\n",
    "- median_age\n",
    "- total_rooms\n",
    "- median_income"
   ]
  },
  {
   "cell_type": "code",
   "execution_count": 71,
   "metadata": {},
   "outputs": [],
   "source": [
    "features = ['latitude', 'median_age', 'total_rooms', 'median_income']"
   ]
  },
  {
   "cell_type": "markdown",
   "metadata": {},
   "source": [
    "### 4.2 Treino dos Regressores"
   ]
  },
  {
   "cell_type": "markdown",
   "metadata": {},
   "source": [
    "Serão testados os seguintes regressores:\n",
    "\n",
    "- Regressão Linear\n",
    "- kNN Regressor\n",
    "- Árvore de Decisão"
   ]
  },
  {
   "cell_type": "code",
   "execution_count": 72,
   "metadata": {},
   "outputs": [],
   "source": [
    "x_train = data[features]\n",
    "y_train = data['median_house_value']\n",
    "\n",
    "x_test = test[features]"
   ]
  },
  {
   "cell_type": "markdown",
   "metadata": {},
   "source": [
    "#### 4.21 Regressão Linear"
   ]
  },
  {
   "cell_type": "code",
   "execution_count": 73,
   "metadata": {},
   "outputs": [
    {
     "data": {
      "text/plain": [
       "LinearRegression(copy_X=True, fit_intercept=True, n_jobs=None, normalize='True')"
      ]
     },
     "execution_count": 73,
     "metadata": {},
     "output_type": "execute_result"
    }
   ],
   "source": [
    "rl = LinearRegression(normalize = 'True')\n",
    "\n",
    "rl_scores = cross_val_score(rl, x_train, y_train, cv=10)\n",
    "\n",
    "rl.fit(x_train, y_train)"
   ]
  },
  {
   "cell_type": "code",
   "execution_count": 74,
   "metadata": {},
   "outputs": [
    {
     "data": {
      "text/plain": [
       "0.5200726387718683"
      ]
     },
     "execution_count": 74,
     "metadata": {},
     "output_type": "execute_result"
    }
   ],
   "source": [
    "rl_scores.mean()"
   ]
  },
  {
   "cell_type": "markdown",
   "metadata": {},
   "source": [
    "Predição a partir da Regressão Linear criada"
   ]
  },
  {
   "cell_type": "code",
   "execution_count": 75,
   "metadata": {
    "scrolled": true
   },
   "outputs": [
    {
     "data": {
      "text/plain": [
       "array([351314.74714369, 194808.37859574, 168509.50024169, ...,\n",
       "       209750.23652931, 207508.85916158, 112603.80933251])"
      ]
     },
     "execution_count": 75,
     "metadata": {},
     "output_type": "execute_result"
    }
   ],
   "source": [
    "y_test = rl.predict(x_test)\n",
    "\n",
    "y_test"
   ]
  },
  {
   "cell_type": "code",
   "execution_count": 76,
   "metadata": {},
   "outputs": [
    {
     "data": {
      "text/html": [
       "<div>\n",
       "<style scoped>\n",
       "    .dataframe tbody tr th:only-of-type {\n",
       "        vertical-align: middle;\n",
       "    }\n",
       "\n",
       "    .dataframe tbody tr th {\n",
       "        vertical-align: top;\n",
       "    }\n",
       "\n",
       "    .dataframe thead th {\n",
       "        text-align: right;\n",
       "    }\n",
       "</style>\n",
       "<table border=\"1\" class=\"dataframe\">\n",
       "  <thead>\n",
       "    <tr style=\"text-align: right;\">\n",
       "      <th></th>\n",
       "      <th>latitude</th>\n",
       "      <th>median_age</th>\n",
       "      <th>total_rooms</th>\n",
       "      <th>median_income</th>\n",
       "      <th>Preço Médio Esperado</th>\n",
       "    </tr>\n",
       "  </thead>\n",
       "  <tbody>\n",
       "    <tr>\n",
       "      <th>0</th>\n",
       "      <td>34.30</td>\n",
       "      <td>5</td>\n",
       "      <td>6123</td>\n",
       "      <td>79013</td>\n",
       "      <td>351314.747144</td>\n",
       "    </tr>\n",
       "    <tr>\n",
       "      <th>1</th>\n",
       "      <td>34.09</td>\n",
       "      <td>26</td>\n",
       "      <td>1151</td>\n",
       "      <td>36667</td>\n",
       "      <td>194808.378596</td>\n",
       "    </tr>\n",
       "    <tr>\n",
       "      <th>2</th>\n",
       "      <td>35.37</td>\n",
       "      <td>34</td>\n",
       "      <td>2412</td>\n",
       "      <td>26903</td>\n",
       "      <td>168509.500242</td>\n",
       "    </tr>\n",
       "    <tr>\n",
       "      <th>3</th>\n",
       "      <td>34.14</td>\n",
       "      <td>16</td>\n",
       "      <td>2577</td>\n",
       "      <td>25625</td>\n",
       "      <td>133973.632809</td>\n",
       "    </tr>\n",
       "    <tr>\n",
       "      <th>4</th>\n",
       "      <td>38.98</td>\n",
       "      <td>14</td>\n",
       "      <td>2267</td>\n",
       "      <td>47019</td>\n",
       "      <td>195254.650253</td>\n",
       "    </tr>\n",
       "  </tbody>\n",
       "</table>\n",
       "</div>"
      ],
      "text/plain": [
       "   latitude  median_age  total_rooms  median_income  Preço Médio Esperado\n",
       "0     34.30           5         6123          79013         351314.747144\n",
       "1     34.09          26         1151          36667         194808.378596\n",
       "2     35.37          34         2412          26903         168509.500242\n",
       "3     34.14          16         2577          25625         133973.632809\n",
       "4     38.98          14         2267          47019         195254.650253"
      ]
     },
     "execution_count": 76,
     "metadata": {},
     "output_type": "execute_result"
    }
   ],
   "source": [
    "data_y = pd.DataFrame(y_test, columns = ['Preço Médio Esperado'])\n",
    "\n",
    "rl_predict = pd.concat([x_test, data_y], axis=1)\n",
    "\n",
    "rl_predict.head()"
   ]
  },
  {
   "cell_type": "markdown",
   "metadata": {},
   "source": [
    "Coeficiente de Determinação (R^2) da predição"
   ]
  },
  {
   "cell_type": "code",
   "execution_count": 77,
   "metadata": {},
   "outputs": [
    {
     "data": {
      "text/plain": [
       "0.521051269727165"
      ]
     },
     "execution_count": 77,
     "metadata": {},
     "output_type": "execute_result"
    }
   ],
   "source": [
    "rl.score(x_train, y_train)"
   ]
  },
  {
   "cell_type": "markdown",
   "metadata": {},
   "source": [
    "#### 4.22 kNN Regressor"
   ]
  },
  {
   "cell_type": "code",
   "execution_count": 78,
   "metadata": {},
   "outputs": [
    {
     "data": {
      "text/plain": [
       "KNeighborsRegressor(algorithm='auto', leaf_size=30, metric='minkowski',\n",
       "                    metric_params=None, n_jobs=None, n_neighbors=30, p=2,\n",
       "                    weights='uniform')"
      ]
     },
     "execution_count": 78,
     "metadata": {},
     "output_type": "execute_result"
    }
   ],
   "source": [
    "knn_reg = KNeighborsRegressor(n_neighbors = 30)\n",
    "\n",
    "knn_reg_scores = cross_val_score(knn_reg, x_train, y_train, cv=10)\n",
    "\n",
    "knn_reg.fit(x_train, y_train)"
   ]
  },
  {
   "cell_type": "code",
   "execution_count": 79,
   "metadata": {},
   "outputs": [
    {
     "data": {
      "text/plain": [
       "0.47567147819834377"
      ]
     },
     "execution_count": 79,
     "metadata": {},
     "output_type": "execute_result"
    }
   ],
   "source": [
    "knn_reg_scores.mean()"
   ]
  },
  {
   "cell_type": "markdown",
   "metadata": {},
   "source": [
    "Predição"
   ]
  },
  {
   "cell_type": "code",
   "execution_count": 80,
   "metadata": {},
   "outputs": [
    {
     "data": {
      "text/plain": [
       "array([414296.83333333, 211356.7       , 147263.33333333, ...,\n",
       "       258310.03333333, 232306.66666667, 156643.33333333])"
      ]
     },
     "execution_count": 80,
     "metadata": {},
     "output_type": "execute_result"
    }
   ],
   "source": [
    "y_test = knn_reg.predict(x_test)\n",
    "\n",
    "y_test"
   ]
  },
  {
   "cell_type": "code",
   "execution_count": 81,
   "metadata": {},
   "outputs": [
    {
     "data": {
      "text/html": [
       "<div>\n",
       "<style scoped>\n",
       "    .dataframe tbody tr th:only-of-type {\n",
       "        vertical-align: middle;\n",
       "    }\n",
       "\n",
       "    .dataframe tbody tr th {\n",
       "        vertical-align: top;\n",
       "    }\n",
       "\n",
       "    .dataframe thead th {\n",
       "        text-align: right;\n",
       "    }\n",
       "</style>\n",
       "<table border=\"1\" class=\"dataframe\">\n",
       "  <thead>\n",
       "    <tr style=\"text-align: right;\">\n",
       "      <th></th>\n",
       "      <th>latitude</th>\n",
       "      <th>median_age</th>\n",
       "      <th>total_rooms</th>\n",
       "      <th>median_income</th>\n",
       "      <th>Preço Médio Esperado</th>\n",
       "    </tr>\n",
       "  </thead>\n",
       "  <tbody>\n",
       "    <tr>\n",
       "      <th>0</th>\n",
       "      <td>34.30</td>\n",
       "      <td>5</td>\n",
       "      <td>6123</td>\n",
       "      <td>79013</td>\n",
       "      <td>414296.833333</td>\n",
       "    </tr>\n",
       "    <tr>\n",
       "      <th>1</th>\n",
       "      <td>34.09</td>\n",
       "      <td>26</td>\n",
       "      <td>1151</td>\n",
       "      <td>36667</td>\n",
       "      <td>211356.700000</td>\n",
       "    </tr>\n",
       "    <tr>\n",
       "      <th>2</th>\n",
       "      <td>35.37</td>\n",
       "      <td>34</td>\n",
       "      <td>2412</td>\n",
       "      <td>26903</td>\n",
       "      <td>147263.333333</td>\n",
       "    </tr>\n",
       "    <tr>\n",
       "      <th>3</th>\n",
       "      <td>34.14</td>\n",
       "      <td>16</td>\n",
       "      <td>2577</td>\n",
       "      <td>25625</td>\n",
       "      <td>123713.333333</td>\n",
       "    </tr>\n",
       "    <tr>\n",
       "      <th>4</th>\n",
       "      <td>38.98</td>\n",
       "      <td>14</td>\n",
       "      <td>2267</td>\n",
       "      <td>47019</td>\n",
       "      <td>279033.433333</td>\n",
       "    </tr>\n",
       "  </tbody>\n",
       "</table>\n",
       "</div>"
      ],
      "text/plain": [
       "   latitude  median_age  total_rooms  median_income  Preço Médio Esperado\n",
       "0     34.30           5         6123          79013         414296.833333\n",
       "1     34.09          26         1151          36667         211356.700000\n",
       "2     35.37          34         2412          26903         147263.333333\n",
       "3     34.14          16         2577          25625         123713.333333\n",
       "4     38.98          14         2267          47019         279033.433333"
      ]
     },
     "execution_count": 81,
     "metadata": {},
     "output_type": "execute_result"
    }
   ],
   "source": [
    "data_y = pd.DataFrame(y_test, columns = ['Preço Médio Esperado'])\n",
    "\n",
    "knn_predict = pd.concat([x_test, data_y], axis=1)\n",
    "\n",
    "knn_predict.head()"
   ]
  },
  {
   "cell_type": "markdown",
   "metadata": {},
   "source": [
    "#### 4.23 Árvore de Decisão"
   ]
  },
  {
   "cell_type": "code",
   "execution_count": 82,
   "metadata": {},
   "outputs": [
    {
     "data": {
      "text/plain": [
       "DecisionTreeRegressor(criterion='mse', max_depth=None, max_features=None,\n",
       "                      max_leaf_nodes=None, min_impurity_decrease=0.0,\n",
       "                      min_impurity_split=None, min_samples_leaf=1,\n",
       "                      min_samples_split=2, min_weight_fraction_leaf=0.0,\n",
       "                      presort=False, random_state=None, splitter='best')"
      ]
     },
     "execution_count": 82,
     "metadata": {},
     "output_type": "execute_result"
    }
   ],
   "source": [
    "arvore = tree.DecisionTreeRegressor()\n",
    "\n",
    "arvore_scores = cross_val_score(knn_reg, x_train, y_train, cv=10)\n",
    "\n",
    "arvore.fit(x_train, y_train)"
   ]
  },
  {
   "cell_type": "code",
   "execution_count": 83,
   "metadata": {},
   "outputs": [
    {
     "data": {
      "text/plain": [
       "0.47567147819834377"
      ]
     },
     "execution_count": 83,
     "metadata": {},
     "output_type": "execute_result"
    }
   ],
   "source": [
    "arvore_scores.mean()"
   ]
  },
  {
   "cell_type": "markdown",
   "metadata": {},
   "source": [
    "Predição"
   ]
  },
  {
   "cell_type": "code",
   "execution_count": 84,
   "metadata": {},
   "outputs": [
    {
     "data": {
      "text/plain": [
       "array([452100., 191900.,  72300., ..., 165200., 230900., 108700.])"
      ]
     },
     "execution_count": 84,
     "metadata": {},
     "output_type": "execute_result"
    }
   ],
   "source": [
    "y_test = arvore.predict(x_test)\n",
    "\n",
    "y_test"
   ]
  },
  {
   "cell_type": "code",
   "execution_count": 85,
   "metadata": {},
   "outputs": [
    {
     "data": {
      "text/html": [
       "<div>\n",
       "<style scoped>\n",
       "    .dataframe tbody tr th:only-of-type {\n",
       "        vertical-align: middle;\n",
       "    }\n",
       "\n",
       "    .dataframe tbody tr th {\n",
       "        vertical-align: top;\n",
       "    }\n",
       "\n",
       "    .dataframe thead th {\n",
       "        text-align: right;\n",
       "    }\n",
       "</style>\n",
       "<table border=\"1\" class=\"dataframe\">\n",
       "  <thead>\n",
       "    <tr style=\"text-align: right;\">\n",
       "      <th></th>\n",
       "      <th>latitude</th>\n",
       "      <th>median_age</th>\n",
       "      <th>total_rooms</th>\n",
       "      <th>median_income</th>\n",
       "      <th>Preço Médio Esperado</th>\n",
       "    </tr>\n",
       "  </thead>\n",
       "  <tbody>\n",
       "    <tr>\n",
       "      <th>0</th>\n",
       "      <td>34.30</td>\n",
       "      <td>5</td>\n",
       "      <td>6123</td>\n",
       "      <td>79013</td>\n",
       "      <td>452100.0</td>\n",
       "    </tr>\n",
       "    <tr>\n",
       "      <th>1</th>\n",
       "      <td>34.09</td>\n",
       "      <td>26</td>\n",
       "      <td>1151</td>\n",
       "      <td>36667</td>\n",
       "      <td>191900.0</td>\n",
       "    </tr>\n",
       "    <tr>\n",
       "      <th>2</th>\n",
       "      <td>35.37</td>\n",
       "      <td>34</td>\n",
       "      <td>2412</td>\n",
       "      <td>26903</td>\n",
       "      <td>72300.0</td>\n",
       "    </tr>\n",
       "    <tr>\n",
       "      <th>3</th>\n",
       "      <td>34.14</td>\n",
       "      <td>16</td>\n",
       "      <td>2577</td>\n",
       "      <td>25625</td>\n",
       "      <td>146900.0</td>\n",
       "    </tr>\n",
       "    <tr>\n",
       "      <th>4</th>\n",
       "      <td>38.98</td>\n",
       "      <td>14</td>\n",
       "      <td>2267</td>\n",
       "      <td>47019</td>\n",
       "      <td>212000.0</td>\n",
       "    </tr>\n",
       "  </tbody>\n",
       "</table>\n",
       "</div>"
      ],
      "text/plain": [
       "   latitude  median_age  total_rooms  median_income  Preço Médio Esperado\n",
       "0     34.30           5         6123          79013              452100.0\n",
       "1     34.09          26         1151          36667              191900.0\n",
       "2     35.37          34         2412          26903               72300.0\n",
       "3     34.14          16         2577          25625              146900.0\n",
       "4     38.98          14         2267          47019              212000.0"
      ]
     },
     "execution_count": 85,
     "metadata": {},
     "output_type": "execute_result"
    }
   ],
   "source": [
    "data_y = pd.DataFrame(y_test, columns = ['Preço Médio Esperado'])\n",
    "\n",
    "arvore_predict = pd.concat([x_test, data_y], axis=1)\n",
    "\n",
    "arvore_predict.head()"
   ]
  },
  {
   "cell_type": "markdown",
   "metadata": {},
   "source": [
    "#### 4.3 Visão geral sobre os resultados dos regressores"
   ]
  },
  {
   "cell_type": "markdown",
   "metadata": {},
   "source": [
    "Dentre os regressores utilizados a **Regressão Linear** teve o melhor desempenho, levando em consideração a acurácia na validação cruzada. Devido aos resultados obtidos, conclui-se que não são bons regressores ao problema, uma vez que o melhor resultado obtido apresenta menos de 60% de predição correta. No entanto foram testes interessantes no quesito de fixar os conceitos acerca da Regressão estudados ao longo da disciplina."
   ]
  }
 ],
 "metadata": {
  "kernelspec": {
   "display_name": "Python 3",
   "language": "python",
   "name": "python3"
  },
  "language_info": {
   "codemirror_mode": {
    "name": "ipython",
    "version": 3
   },
   "file_extension": ".py",
   "mimetype": "text/x-python",
   "name": "python",
   "nbconvert_exporter": "python",
   "pygments_lexer": "ipython3",
   "version": "3.6.6"
  }
 },
 "nbformat": 4,
 "nbformat_minor": 1
}
